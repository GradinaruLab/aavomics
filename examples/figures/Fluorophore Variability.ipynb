{
 "cells": [
  {
   "cell_type": "code",
   "execution_count": null,
   "metadata": {},
   "outputs": [],
   "source": [
    "from aavomics import database\n",
    "import anndata\n",
    "import os\n",
    "from plotly import graph_objects\n",
    "from plotly import offline as plotly"
   ]
  },
  {
   "cell_type": "code",
   "execution_count": null,
   "metadata": {},
   "outputs": [],
   "source": [
    "ANNDATA_FILE_NAME = \"aavomics_mouse_cortex_2021.h5ad\""
   ]
  },
  {
   "cell_type": "code",
   "execution_count": null,
   "metadata": {},
   "outputs": [],
   "source": [
    "adata = anndata.read_h5ad(os.path.join(database.DATA_PATH, ANNDATA_FILE_NAME))"
   ]
  },
  {
   "cell_type": "code",
   "execution_count": null,
   "metadata": {},
   "outputs": [],
   "source": [
    "CELL_SET_NAMES = [\"20181127_TC1\", \"20190319_TC2\", \"20190111_BC1\", \"20190321_BC2\", \"20190711_TC4\", \"20190712_TC5\", \"20190713_TC6\", \"20190713_TC7\", \"20200720_BC4_1\", \"20200720_BC4_2\"]\n",
    "sample_to_virus_to_vegetable = {}\n",
    "for cell_set_name in CELL_SET_NAMES:\n",
    "    cell_set = database.CELL_SETS_DICT[cell_set_name]\n",
    "    if cell_set_name not in sample_to_virus_to_vegetable.keys():\n",
    "        sample_to_virus_to_vegetable[cell_set_name] = {}\n",
    "    for injection in cell_set.source_tissue.animal.injections:\n",
    "        for vector in injection.vector_pool.vectors:\n",
    "            #print(cell_set_name, vector.name.split())\n",
    "            vname = vector.name.split()\n",
    "            sample_to_virus_to_vegetable[cell_set_name][vname[0]]=vname[1]"
   ]
  },
  {
   "cell_type": "code",
   "execution_count": null,
   "metadata": {},
   "outputs": [],
   "source": [
    "neon, cherry, tomato, ruby = [[],[]], [[],[]], [[],[]], [[],[]]\n",
    "neon_norm, cherry_norm, tomato_norm, ruby_norm = [[],[]], [[],[]], [[],[]], [[],[]]\n",
    "viruses = ['PHP.eB', 'PHP.V1', 'CAP-B10']\n",
    "for cell_set_name in CELL_SET_NAMES:\n",
    "    virus_adata = adata[adata.obs[\"Cell Set\"] == cell_set_name].copy()\n",
    "    \n",
    "    for v in viruses:\n",
    "        if v in virus_adata.obs.columns and virus_adata.obs[v].sum() > 0:\n",
    "            virus_counts = virus_adata.obs[v].sum()\n",
    "            norm_factor = virus_adata.X.sum()\n",
    "            veggie = sample_to_virus_to_vegetable[cell_set_name][v]\n",
    "            if veggie == 'mNeonGreen':\n",
    "                neon[0].append(v)\n",
    "                neon[1].append(virus_counts)\n",
    "                neon_norm[0].append(v)\n",
    "                neon_norm[1].append(virus_counts / norm_factor)\n",
    "            elif veggie == 'mCherry':\n",
    "                cherry[0].append(v)\n",
    "                cherry[1].append(virus_counts)\n",
    "                cherry_norm[0].append(v)\n",
    "                cherry_norm[1].append(virus_counts / norm_factor)\n",
    "            elif veggie == 'tdTomato':\n",
    "                tomato[0].append(v)\n",
    "                tomato[1].append(virus_counts)\n",
    "                tomato_norm[0].append(v)\n",
    "                tomato_norm[1].append(virus_counts / norm_factor)\n",
    "            elif veggie == 'mRuby2':\n",
    "                ruby[0].append(v)\n",
    "                ruby[1].append(virus_counts)\n",
    "                ruby_norm[0].append(v)\n",
    "                ruby_norm[1].append(virus_counts / norm_factor)\n",
    "    print(neon, cherry, tomato, ruby)\n",
    "    print(neon_norm, cherry_norm, tomato_norm, ruby_norm)"
   ]
  },
  {
   "cell_type": "code",
   "execution_count": null,
   "metadata": {},
   "outputs": [],
   "source": [
    "# Normalized Counts\n",
    "trace_1 = graph_objects.Scatter(\n",
    "    x=neon_norm[0],\n",
    "    y=neon_norm[1],\n",
    "    mode=\"markers\",\n",
    "    name='mNeonGreen',\n",
    "    marker={\n",
    "        \"size\": 10\n",
    "    }\n",
    ")\n",
    "trace_2 = graph_objects.Scatter(\n",
    "    x=cherry_norm[0],\n",
    "    y=cherry_norm[1],\n",
    "    mode=\"markers\",\n",
    "    name='mCherry',\n",
    "    marker={\n",
    "        \"size\": 10\n",
    "    }\n",
    ")\n",
    "trace_3 = graph_objects.Scatter(\n",
    "    x=tomato_norm[0],\n",
    "    y=tomato_norm[1],\n",
    "    mode=\"markers\",\n",
    "    name='tdTomato',\n",
    "    marker={\n",
    "        \"size\": 10\n",
    "    }\n",
    ")\n",
    "trace_4 = graph_objects.Scatter(\n",
    "    x=ruby_norm[0],\n",
    "    y=ruby_norm[1],\n",
    "    mode=\"markers\",\n",
    "    name='mRuby2',\n",
    "    marker={\n",
    "        \"size\": 10\n",
    "    }\n",
    ")\n",
    "\n",
    "layout = {}\n",
    "\n",
    "layout[\"height\"] = 600\n",
    "layout[\"width\"] = 600\n",
    "layout[\"plot_bgcolor\"] = \"rgba(255, 255, 255, 0)\"\n",
    "layout[\"paper_bgcolor\"] = \"rgba(255, 255, 255, 0)\"\n",
    "layout[\"yaxis\"] = {\n",
    "    \"title\": {\n",
    "        \"text\": \"Transcript Abundance\",\n",
    "    },\n",
    "    \"gridcolor\": \"rgba(0, 0, 0, 0.25)\",\n",
    "    \"type\": \"log\"\n",
    "}\n",
    "layout[\"xaxis\"] = {\n",
    "    \"title\": \"Virus\"\n",
    "}\n",
    "layout[\"title\"] = {\n",
    "    \"text\":\"Transcript Abundance by Fluorophore\"\n",
    "}\n",
    "\n",
    "figure = graph_objects.Figure(data=[trace_3,trace_2,trace_1,trace_4], layout=layout)\n",
    "\n",
    "plotly.iplot(figure)\n",
    "\n",
    "figure.write_image(os.path.join(\"out\", \"transcript_abundance_by_fluorophore.svg\"))"
   ]
  },
  {
   "cell_type": "code",
   "execution_count": null,
   "metadata": {},
   "outputs": [],
   "source": []
  }
 ],
 "metadata": {
  "kernelspec": {
   "display_name": "Python 3",
   "language": "python",
   "name": "python3"
  },
  "language_info": {
   "codemirror_mode": {
    "name": "ipython",
    "version": 3
   },
   "file_extension": ".py",
   "mimetype": "text/x-python",
   "name": "python",
   "nbconvert_exporter": "python",
   "pygments_lexer": "ipython3",
   "version": "3.7.0"
  }
 },
 "nbformat": 4,
 "nbformat_minor": 2
}
