{
 "cells": [
  {
   "cell_type": "code",
   "execution_count": null,
   "metadata": {},
   "outputs": [],
   "source": [
    "import os\n",
    "\n",
    "from aavomics import database\n",
    "from aavomics import aavomics\n",
    "import anndata\n",
    "import numpy\n",
    "import pandas\n",
    "\n",
    "import plotly.graph_objects as graph_objects\n",
    "from plotly import offline as plotly"
   ]
  },
  {
   "cell_type": "code",
   "execution_count": null,
   "metadata": {},
   "outputs": [],
   "source": [
    "droplet_classifier_adata = anndata.read_h5ad(os.path.join(database.DATA_PATH, \"aavomics_mouse_cortex_2021_droplet_training_data.h5ad\"))"
   ]
  },
  {
   "cell_type": "code",
   "execution_count": null,
   "metadata": {},
   "outputs": [],
   "source": [
    "droplet_type_clusters = {droplet_type: [] for droplet_type in list(droplet_classifier_adata.obs[\"CCN202105041\"].unique())}\n",
    "\n",
    "for cluster in droplet_classifier_adata.obs[\"leiden_scVI\"].unique():\n",
    "    \n",
    "    cluster_adata = droplet_classifier_adata[droplet_classifier_adata.obs[\"leiden_scVI\"] == cluster].copy()\n",
    "\n",
    "    droplet_types = list(cluster_adata.obs[\"CCN202105041\"].unique())\n",
    "    \n",
    "    if len(droplet_types) > 1:\n",
    "        \n",
    "        droplet_types.remove(\"Multiplets\")\n",
    "\n",
    "    droplet_type = droplet_types[0]\n",
    "    \n",
    "    droplet_type_clusters[droplet_type].append(cluster)"
   ]
  },
  {
   "cell_type": "code",
   "execution_count": null,
   "metadata": {},
   "outputs": [],
   "source": [
    "mt_genes = droplet_classifier_adata.var.loc[droplet_classifier_adata.var[\"Gene Name\"].str.startswith(\"mt-\")].index.values"
   ]
  },
  {
   "cell_type": "code",
   "execution_count": null,
   "metadata": {},
   "outputs": [],
   "source": [
    "traces = []\n",
    "\n",
    "for droplet_type, clusters in droplet_type_clusters.items():\n",
    "    \n",
    "    x = []\n",
    "    y = []\n",
    "    \n",
    "    for cluster in clusters:\n",
    "        \n",
    "        cluster_adata = droplet_classifier_adata[droplet_classifier_adata.obs[\"leiden_scVI\"] == cluster].copy()\n",
    "        \n",
    "        total_transcript_counts = numpy.array(cluster_adata.X.sum(axis=1)).flatten()\n",
    "        \n",
    "        mt_counts = numpy.array(cluster_adata[:, mt_genes].X.sum(axis=1)).flatten()\n",
    "        \n",
    "        mt_ratios = mt_counts/total_transcript_counts\n",
    "        \n",
    "        x.append(total_transcript_counts.mean())\n",
    "        y.append(mt_ratios.mean())\n",
    "    \n",
    "    trace = graph_objects.Scatter(\n",
    "        x=x,\n",
    "        y=y,\n",
    "        name=droplet_type,\n",
    "        mode=\"markers\"\n",
    "    )\n",
    "    \n",
    "    traces.append(trace)"
   ]
  },
  {
   "cell_type": "code",
   "execution_count": null,
   "metadata": {},
   "outputs": [],
   "source": [
    "layout = {}\n",
    "\n",
    "layout[\"height\"] = 500\n",
    "layout[\"width\"] = 700\n",
    "layout[\"plot_bgcolor\"] = \"rgba(255, 255, 255, 0)\"\n",
    "layout[\"paper_bgcolor\"] = \"rgba(255, 255, 255, 0)\"\n",
    "layout[\"xaxis\"] = {\n",
    "    \"title\": \"Number of Transcripts\",\n",
    "    \"rangemode\": \"tozero\",\n",
    "    \"gridcolor\": \"rgba(0, 0, 0, 0.25)\",\n",
    "    \"zerolinecolor\": \"rgba(0, 0, 0, 0.25)\",\n",
    "}\n",
    "layout[\"yaxis\"] = {\n",
    "    \"title\": \"% Mitochondrial Transcripts\",\n",
    "    \"rangemode\": \"tozero\",\n",
    "    \"gridcolor\": \"rgba(0, 0, 0, 0.25)\",\n",
    "    \"zerolinecolor\": \"rgba(0, 0, 0, 0.25)\"\n",
    "}\n",
    "\n",
    "figure = graph_objects.Figure(data=traces, layout=layout)\n",
    "\n",
    "plotly.iplot(figure)"
   ]
  },
  {
   "cell_type": "code",
   "execution_count": null,
   "metadata": {},
   "outputs": [],
   "source": [
    "figure.write_image(os.path.join(\"out\", \"cell_typing_qc.svg\"))"
   ]
  }
 ],
 "metadata": {
  "kernelspec": {
   "display_name": "Python 3",
   "language": "python",
   "name": "python3"
  },
  "language_info": {
   "codemirror_mode": {
    "name": "ipython",
    "version": 3
   },
   "file_extension": ".py",
   "mimetype": "text/x-python",
   "name": "python",
   "nbconvert_exporter": "python",
   "pygments_lexer": "ipython3",
   "version": "3.7.0"
  }
 },
 "nbformat": 4,
 "nbformat_minor": 2
}
