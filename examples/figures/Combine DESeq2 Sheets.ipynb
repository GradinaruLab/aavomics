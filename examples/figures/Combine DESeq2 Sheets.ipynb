{
 "cells": [
  {
   "cell_type": "code",
   "execution_count": null,
   "metadata": {},
   "outputs": [],
   "source": [
    "import pandas\n",
    "import os\n",
    "import numpy"
   ]
  },
  {
   "cell_type": "code",
   "execution_count": null,
   "metadata": {},
   "outputs": [],
   "source": [
    "combined_excel = pandas.ExcelWriter(os.path.join(\"deseq2_out\", \"25_3_DPI_DE.xlsx\"), engine=\"xlsxwriter\")\n",
    "\n",
    "for file in sorted(os.listdir(\"deseq2_out\")):\n",
    "    \n",
    "    if not file.endswith(\".csv\"):\n",
    "        continue\n",
    "    \n",
    "    title_parts = file.split(\"_\")\n",
    "    suffix_length = len(title_parts[-2])\n",
    "    \n",
    "    title = \"_\".join(title_parts[0:-2])[0:30-suffix_length] + \"_\" + title_parts[-2]\n",
    "    \n",
    "    df = pandas.read_csv(os.path.join(\"deseq2_out\", file), index_col=0)\n",
    "    df.columns = [\"Mean expression\", \"L2FC\", \"L2FC SE\", \"Stat\", \"P-value\", \"Adjusted P-value\", \"Gene Name\"]\n",
    "    df.index.rename(\"Gene ID\", inplace=True)\n",
    "    df = df[~numpy.isnan(df[\"Adjusted P-value\"])]\n",
    "\n",
    "    for column in df.columns:\n",
    "        if column == \"Gene Name\":\n",
    "            continue\n",
    "        df[column] = df[column].apply(lambda x: round(x, 3 - int(numpy.floor(numpy.log10(numpy.abs(x))))))\n",
    "                                    \n",
    "    df.to_excel(combined_excel, sheet_name=title)\n",
    "\n",
    "combined_excel.save()"
   ]
  },
  {
   "cell_type": "code",
   "execution_count": null,
   "metadata": {},
   "outputs": [],
   "source": []
  }
 ],
 "metadata": {
  "kernelspec": {
   "display_name": "Python 3",
   "language": "python",
   "name": "python3"
  },
  "language_info": {
   "codemirror_mode": {
    "name": "ipython",
    "version": 3
   },
   "file_extension": ".py",
   "mimetype": "text/x-python",
   "name": "python",
   "nbconvert_exporter": "python",
   "pygments_lexer": "ipython3",
   "version": "3.7.0"
  }
 },
 "nbformat": 4,
 "nbformat_minor": 2
}
