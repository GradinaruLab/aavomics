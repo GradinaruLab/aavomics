{
 "cells": [
  {
   "cell_type": "code",
   "execution_count": null,
   "metadata": {},
   "outputs": [],
   "source": [
    "import os\n",
    "\n",
    "from aavomics import database\n",
    "from aavomics import aavomics\n",
    "import anndata\n",
    "import pandas\n",
    "import numpy\n",
    "from scipy import stats\n",
    "\n",
    "import plotly.graph_objects as graph_objects\n",
    "from plotly import offline as plotly"
   ]
  },
  {
   "cell_type": "code",
   "execution_count": null,
   "metadata": {},
   "outputs": [],
   "source": [
    "TRANSDUCTION_RATE_FILE_NAME = \"aavomics_cell_type_transduction_rates.csv\""
   ]
  },
  {
   "cell_type": "code",
   "execution_count": null,
   "metadata": {},
   "outputs": [],
   "source": [
    "CELL_TYPE_HIERARCHY = {\n",
    "    \"Astrocytes\": {\n",
    "        \"Myoc- Astrocytes\": {},\n",
    "        \"Myoc+ Astrocytes\": {}\n",
    "    },\n",
    "    \"Vascular Cells\": {\n",
    "        \"Endothelial Cells\": {},\n",
    "        \"Pericytes\": {},\n",
    "        \"Red Blood Cells\": {},\n",
    "        \"Vascular SMCs\": {},\n",
    "        \"VLMCs\": {}\n",
    "    },\n",
    "    \"Immune Cells\": {\n",
    "        \"Microglia\": {},\n",
    "        \"Perivascular Macrophages\": {},\n",
    "        \"Leukocytes\": {}\n",
    "    },\n",
    "    \"Oligodendrocytes\": {\n",
    "        \"OPCs\": {},\n",
    "        \"Committed Oligodendrocytes\": {},\n",
    "        \"Mature Oligodendrocytes\": {}\n",
    "    }\n",
    "}\n",
    "\n",
    "cell_types = []\n",
    "\n",
    "for cell_type, cell_subtypes in CELL_TYPE_HIERARCHY.items():\n",
    "    cell_types.extend(cell_subtypes.keys())"
   ]
  },
  {
   "cell_type": "code",
   "execution_count": null,
   "metadata": {},
   "outputs": [],
   "source": [
    "transduction_rate_df = pandas.read_csv(os.path.join(database.DATA_PATH, TRANSDUCTION_RATE_FILE_NAME), index_col=0)"
   ]
  },
  {
   "cell_type": "code",
   "execution_count": null,
   "metadata": {},
   "outputs": [],
   "source": [
    "CELL_SET_NAMES = [\"20181127_TC1\", \"20190319_TC2\", \"20190111_BC1\", \"20190321_BC2\"]\n",
    "VIRUS_NAMES = [\"PHP.eB\", \"PHP.V1\"]"
   ]
  },
  {
   "cell_type": "code",
   "execution_count": null,
   "metadata": {},
   "outputs": [],
   "source": [
    "all_cell_types = set()\n",
    "\n",
    "for column_name in transduction_rate_df.columns:\n",
    "    if column_name.endswith(\"Transduction Rate\"):\n",
    "        all_cell_types.add(\" \".join(column_name.split()[0:-2]))"
   ]
  },
  {
   "cell_type": "code",
   "execution_count": null,
   "metadata": {},
   "outputs": [],
   "source": [
    "virus_1_x_values = []\n",
    "virus_1_y_values = []\n",
    "virus_1_cell_set_names = []\n",
    "\n",
    "for cell_set_name in CELL_SET_NAMES:\n",
    "    \n",
    "    cell_type_num_transduced = {cell_type: 0 for cell_type in CELL_TYPE_HIERARCHY}\n",
    "    \n",
    "    cell_set_virus_mask = (transduction_rate_df[\"Cell Set\"] == cell_set_name) & \\\n",
    "        (transduction_rate_df[\"Virus\"] == VIRUS_NAMES[0])\n",
    "    \n",
    "    row = transduction_rate_df[cell_set_virus_mask].iloc[0]\n",
    "    \n",
    "    total_num_transduced = 0\n",
    "    \n",
    "    for parent_cell_type, cell_subtypes in CELL_TYPE_HIERARCHY.items():\n",
    "    \n",
    "        for cell_type in cell_subtypes:\n",
    "\n",
    "            num_cells = row[\"%s Num Cells\" % cell_type]\n",
    "            transduction_rate = row[\"%s Transduction Rate\" % cell_type]\n",
    "\n",
    "            if numpy.isnan(num_cells):\n",
    "                continue\n",
    "\n",
    "            num_transduced = num_cells * transduction_rate\n",
    "\n",
    "            cell_type_num_transduced[parent_cell_type] += num_transduced\n",
    "            total_num_transduced += num_transduced\n",
    "        \n",
    "    for cell_type_name in CELL_TYPE_HIERARCHY:\n",
    "\n",
    "        virus_1_x_values.append(cell_type_name)\n",
    "        virus_1_y_values.append(cell_type_num_transduced[cell_type_name]/total_num_transduced * 100)\n",
    "        virus_1_cell_set_names.append(cell_set_name)"
   ]
  },
  {
   "cell_type": "code",
   "execution_count": null,
   "metadata": {},
   "outputs": [],
   "source": [
    "virus_2_x_values = []\n",
    "virus_2_y_values = []\n",
    "virus_2_cell_set_names = []\n",
    "\n",
    "for cell_set_name in CELL_SET_NAMES:\n",
    "    \n",
    "    cell_type_num_transduced = {cell_type: 0 for cell_type in CELL_TYPE_HIERARCHY}\n",
    "    \n",
    "    cell_set_virus_mask = (transduction_rate_df[\"Cell Set\"] == cell_set_name) & \\\n",
    "        (transduction_rate_df[\"Virus\"] == VIRUS_NAMES[1])\n",
    "    \n",
    "    row = transduction_rate_df[cell_set_virus_mask].iloc[0]\n",
    "    \n",
    "    total_num_transduced = 0\n",
    "    \n",
    "    for parent_cell_type, cell_subtypes in CELL_TYPE_HIERARCHY.items():\n",
    "    \n",
    "        for cell_type in cell_subtypes:\n",
    "\n",
    "            num_cells = row[\"%s Num Cells\" % cell_type]\n",
    "            transduction_rate = row[\"%s Transduction Rate\" % cell_type]\n",
    "\n",
    "            if numpy.isnan(num_cells):\n",
    "                continue\n",
    "\n",
    "            num_transduced = num_cells * transduction_rate\n",
    "\n",
    "            cell_type_num_transduced[parent_cell_type] += num_transduced\n",
    "            total_num_transduced += num_transduced\n",
    "\n",
    "        \n",
    "    for cell_type_name in CELL_TYPE_HIERARCHY:\n",
    "\n",
    "        virus_2_x_values.append(cell_type_name)\n",
    "        virus_2_y_values.append(cell_type_num_transduced[cell_type_name]/total_num_transduced * 100)\n",
    "        virus_2_cell_set_names.append(cell_set_name)"
   ]
  },
  {
   "cell_type": "code",
   "execution_count": null,
   "metadata": {},
   "outputs": [],
   "source": [
    "cell_type_index_map = {cell_type: index for index, cell_type in enumerate(numpy.unique(virus_1_x_values))}\n",
    "\n",
    "traces = []\n",
    "\n",
    "trace = graph_objects.Box(\n",
    "    x=numpy.array([cell_type_index_map[x] for x in virus_1_x_values]) - 0.25,\n",
    "    y=virus_1_y_values,\n",
    "    name=VIRUS_NAMES[0],\n",
    "    marker=dict(\n",
    "        color=\"black\"\n",
    "    )\n",
    ")\n",
    "    \n",
    "traces.append(trace)\n",
    "\n",
    "trace = graph_objects.Scatter(\n",
    "    x=numpy.array([cell_type_index_map[x] for x in virus_1_x_values]) - 0.5 + numpy.random.rand(len(virus_1_x_values))/10,\n",
    "    y=virus_1_y_values,\n",
    "    name=VIRUS_NAMES[1],\n",
    "    mode=\"markers\",\n",
    "    marker={\n",
    "        \"color\": [\"blue\" if \"BC\" in x else \"red\" for x in virus_1_cell_set_names]\n",
    "    }\n",
    ")\n",
    "    \n",
    "traces.append(trace)\n",
    "\n",
    "trace = graph_objects.Box(\n",
    "    x=numpy.array([cell_type_index_map[x] for x in virus_2_x_values]) + 0.25,\n",
    "    y=virus_2_y_values,\n",
    "    name=VIRUS_NAMES[0],\n",
    "    marker=dict(\n",
    "        color=\"grey\"\n",
    "    )\n",
    ")\n",
    "    \n",
    "traces.append(trace)\n",
    "\n",
    "trace = graph_objects.Scatter(\n",
    "    x=numpy.array([cell_type_index_map[x] for x in virus_2_x_values]) + numpy.random.rand(len(virus_2_x_values))/10,\n",
    "    y=virus_2_y_values,\n",
    "    name=VIRUS_NAMES[1],\n",
    "    mode=\"markers\",\n",
    "    marker={\n",
    "        \"color\": [\"blue\" if \"BC\" in x else \"red\" for x in virus_2_cell_set_names]\n",
    "    }\n",
    ")\n",
    "    \n",
    "traces.append(trace)\n",
    "\n",
    "cell_types = numpy.unique(virus_1_x_values)\n",
    "\n",
    "layout = {\n",
    "    \"width\": 500,\n",
    "    \"xaxis\": {\n",
    "        \"tickvals\": list(range(len(cell_types))),\n",
    "        \"ticktext\": cell_types\n",
    "    },\n",
    "    \"plot_bgcolor\": \"rgba(255, 255, 255, 0)\",\n",
    "    \"paper_bgcolor\": \"rgba(255, 255, 255, 0)\",\n",
    "    \"yaxis\": {\n",
    "        \"rangemode\": \"tozero\",\n",
    "        \"gridcolor\": \"rgba(0, 0, 0, 0.25)\",\n",
    "        \"zerolinecolor\": \"rgba(0, 0, 0, 0.25)\",\n",
    "        \"title\": \"Fraction of non-neuronal transduced cells (%)\"\n",
    "    }\n",
    "}\n",
    "\n",
    "figure = graph_objects.Figure(data=traces, layout=layout)\n",
    "\n",
    "plotly.iplot(figure)\n",
    "\n",
    "figure.write_image(os.path.join(\"out\", \"PHP-eB_vs_PHP-V1_major_cell_types_fraction_transduced.svg\"))"
   ]
  },
  {
   "cell_type": "code",
   "execution_count": null,
   "metadata": {},
   "outputs": [],
   "source": [
    "virus_1_x_values"
   ]
  },
  {
   "cell_type": "code",
   "execution_count": null,
   "metadata": {},
   "outputs": [],
   "source": [
    "virus_1_y_values"
   ]
  },
  {
   "cell_type": "code",
   "execution_count": null,
   "metadata": {},
   "outputs": [],
   "source": [
    "virus_2_x_values"
   ]
  },
  {
   "cell_type": "code",
   "execution_count": null,
   "metadata": {},
   "outputs": [],
   "source": [
    "virus_2_y_values"
   ]
  },
  {
   "cell_type": "code",
   "execution_count": null,
   "metadata": {},
   "outputs": [],
   "source": []
  }
 ],
 "metadata": {
  "kernelspec": {
   "display_name": "Python 3",
   "language": "python",
   "name": "python3"
  },
  "language_info": {
   "codemirror_mode": {
    "name": "ipython",
    "version": 3
   },
   "file_extension": ".py",
   "mimetype": "text/x-python",
   "name": "python",
   "nbconvert_exporter": "python",
   "pygments_lexer": "ipython3",
   "version": "3.7.0"
  }
 },
 "nbformat": 4,
 "nbformat_minor": 2
}
