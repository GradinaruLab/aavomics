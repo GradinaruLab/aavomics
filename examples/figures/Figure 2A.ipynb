{
 "cells": [
  {
   "cell_type": "code",
   "execution_count": null,
   "metadata": {},
   "outputs": [],
   "source": [
    "from aavomics import database\n",
    "import anndata\n",
    "import os\n",
    "import scanpy\n",
    "import numpy\n",
    "from aavomics import aavomics\n",
    "import scvi\n",
    "from plotly import graph_objects\n",
    "from plotly import offline as plotly"
   ]
  },
  {
   "cell_type": "code",
   "execution_count": null,
   "metadata": {},
   "outputs": [],
   "source": [
    "CELL_SET = \"20190712_TC5\"\n",
    "ANNDATA_FILE_NAME = \"aavomics_mouse_cortex_2021.h5ad\"\n",
    "SEED = 1042"
   ]
  },
  {
   "cell_type": "code",
   "execution_count": null,
   "metadata": {},
   "outputs": [],
   "source": [
    "adata = anndata.read_h5ad(os.path.join(database.DATA_PATH, ANNDATA_FILE_NAME))"
   ]
  },
  {
   "cell_type": "code",
   "execution_count": null,
   "metadata": {},
   "outputs": [],
   "source": [
    "cell_set_adata = adata[adata.obs[\"Cell Set\"] == CELL_SET].copy()"
   ]
  },
  {
   "cell_type": "code",
   "execution_count": null,
   "metadata": {},
   "outputs": [],
   "source": [
    "scvi.data.setup_anndata(cell_set_adata, batch_key=\"Cell Set\")"
   ]
  },
  {
   "cell_type": "code",
   "execution_count": null,
   "metadata": {},
   "outputs": [],
   "source": [
    "vae = scvi.model.SCVI(\n",
    "    cell_set_adata,\n",
    "    n_latent=20,\n",
    "    n_layers=2,\n",
    "    n_hidden=256\n",
    ")\n",
    "\n",
    "vae.train(\n",
    "    frequency=1,\n",
    "    n_epochs=100,\n",
    "    n_epochs_kl_warmup=None,\n",
    "    n_iter_kl_warmup=128*5000/400, # Based on documentation at https://www.scvi-tools.org/en/stable/api/reference/scvi.core.trainers.UnsupervisedTrainer.html\n",
    "    seed=SEED\n",
    ")"
   ]
  },
  {
   "cell_type": "code",
   "execution_count": null,
   "metadata": {},
   "outputs": [],
   "source": [
    "normalized_gene_expression = vae.get_normalized_expression(vae.adata)\n",
    "vae.adata.obsm[\"X_scVI\"] = vae.get_latent_representation(vae.adata)\n",
    "# scanpy.pp.neighbors(vae.adata, use_rep=\"X_scVI\", random_state=SEED)\n",
    "scanpy.tl.tsne(vae.adata, use_rep=\"X_scVI\", n_jobs=8, random_state=SEED)\n",
    "# scanpy.tl.leiden(vae.adata, key_added=CLUSTER_OBS_NAME, random_state=SEED, resolution=2) # Resolution 2 to distinguish between doublet clusters"
   ]
  },
  {
   "cell_type": "code",
   "execution_count": null,
   "metadata": {},
   "outputs": [],
   "source": [
    "vae.adata.obs[\"CAP-B10>0\"] = vae.adata.obs[\"CAP-B10\"] > 0\n",
    "vae.adata.obs[\"PHP.eB>0\"] = vae.adata.obs[\"PHP.eB\"] > 0"
   ]
  },
  {
   "cell_type": "code",
   "execution_count": null,
   "metadata": {},
   "outputs": [],
   "source": [
    "transduced_mask = vae.adata.obs[\"PHP.eB>0\"]\n",
    "\n",
    "transduced_scatter = graph_objects.Scatter(\n",
    "    x=vae.adata[transduced_mask].obsm[\"X_tsne\"][:, 0],\n",
    "    y=vae.adata[transduced_mask].obsm[\"X_tsne\"][:, 1],\n",
    "    name=\"Transduced\",\n",
    "    mode=\"markers\",\n",
    "    marker={\n",
    "        \"size\": 2,\n",
    "        \"color\": \"blue\",\n",
    "        \"opacity\": 0.8\n",
    "    }\n",
    ")\n",
    "\n",
    "untransduced_scatter = graph_objects.Scatter(\n",
    "    x=vae.adata[~transduced_mask].obsm[\"X_tsne\"][:, 0],\n",
    "    y=vae.adata[~transduced_mask].obsm[\"X_tsne\"][:, 1],\n",
    "    name=\"Untransduced\",\n",
    "    mode=\"markers\",\n",
    "    marker={\n",
    "        \"size\": 2,\n",
    "        \"color\": \"orange\",\n",
    "        \"opacity\": 0.8\n",
    "    }\n",
    ")\n",
    "\n",
    "layout = {\n",
    "    \"xaxis\": {\n",
    "        \"title\": \"t-SNE 1\"\n",
    "    },\n",
    "    \"plot_bgcolor\": \"rgba(255, 255, 255, 0)\",\n",
    "    \"paper_bgcolor\": \"rgba(255, 255, 255, 0)\",\n",
    "    \"showlegend\": False,\n",
    "    \"width\": 800,\n",
    "    \"height\": 600\n",
    "}\n",
    "\n",
    "figure = graph_objects.Figure(data=[transduced_scatter, untransduced_scatter], layout=layout)\n",
    "\n",
    "plotly.iplot(figure)\n",
    "\n",
    "figure.write_image(os.path.join(\"out\", \"PHP-eB_viral_transcripts_tSNE.svg\"))"
   ]
  },
  {
   "cell_type": "code",
   "execution_count": null,
   "metadata": {},
   "outputs": [],
   "source": [
    "transduced_mask = vae.adata.obs[\"CAP-B10>0\"]\n",
    "\n",
    "transduced_scatter = graph_objects.Scatter(\n",
    "    x=vae.adata[transduced_mask].obsm[\"X_tsne\"][:, 0],\n",
    "    y=vae.adata[transduced_mask].obsm[\"X_tsne\"][:, 1],\n",
    "    name=\"Transduced\",\n",
    "    mode=\"markers\",\n",
    "    marker={\n",
    "        \"size\": 2,\n",
    "        \"color\": \"blue\",\n",
    "        \"opacity\": 0.8\n",
    "    }\n",
    ")\n",
    "\n",
    "untransduced_scatter = graph_objects.Scatter(\n",
    "    x=vae.adata[~transduced_mask].obsm[\"X_tsne\"][:, 0],\n",
    "    y=vae.adata[~transduced_mask].obsm[\"X_tsne\"][:, 1],\n",
    "    name=\"Untransduced\",\n",
    "    mode=\"markers\",\n",
    "    marker={\n",
    "        \"size\": 2,\n",
    "        \"color\": \"orange\",\n",
    "        \"opacity\": 0.8\n",
    "    }\n",
    ")\n",
    "\n",
    "layout = {\n",
    "    \"xaxis\": {\n",
    "        \"title\": \"t-SNE 1\"\n",
    "    },\n",
    "    \"plot_bgcolor\": \"rgba(255, 255, 255, 0)\",\n",
    "    \"paper_bgcolor\": \"rgba(255, 255, 255, 0)\",\n",
    "    \"showlegend\": False,\n",
    "    \"width\": 800,\n",
    "    \"height\": 600\n",
    "}\n",
    "\n",
    "figure = graph_objects.Figure(data=[transduced_scatter, untransduced_scatter], layout=layout)\n",
    "\n",
    "plotly.iplot(figure)\n",
    "\n",
    "figure.write_image(os.path.join(\"out\", \"CAP-B10_viral_transcripts_tSNE.svg\"))"
   ]
  },
  {
   "cell_type": "code",
   "execution_count": null,
   "metadata": {},
   "outputs": [],
   "source": [
    "ensembl_id = vae.adata.var.loc[vae.adata.var['Gene Name']==\"S100b\"].index[0]\n",
    "normalized_gene_counts = numpy.array(normalized_gene_expression.loc[:, ensembl_id].values).reshape((-1,))\n",
    "\n",
    "raw_gene_counts = numpy.array(vae.adata[:, ensembl_id].X.todense()).reshape((-1,))\n",
    "\n",
    "aavomics.plot_gene_expression(vae.adata.obsm[\"X_tsne\"], numpy.log2(raw_gene_counts+1))"
   ]
  },
  {
   "cell_type": "code",
   "execution_count": null,
   "metadata": {},
   "outputs": [],
   "source": [
    "ensembl_id = vae.adata.var.loc[vae.adata.var['Gene Name']==\"Olig2\"].index[0]\n",
    "normalized_gene_counts = numpy.array(normalized_gene_expression.loc[:, ensembl_id].values).reshape((-1,))\n",
    "\n",
    "raw_gene_counts = numpy.array(vae.adata[:, ensembl_id].X.todense()).reshape((-1,))\n",
    "\n",
    "aavomics.plot_gene_expression(vae.adata.obsm[\"X_tsne\"], numpy.log2(raw_gene_counts+1))"
   ]
  },
  {
   "cell_type": "code",
   "execution_count": null,
   "metadata": {},
   "outputs": [],
   "source": [
    "ensembl_id = vae.adata.var.loc[vae.adata.var['Gene Name']==\"Rbfox3\"].index[0]\n",
    "normalized_gene_counts = numpy.array(normalized_gene_expression.loc[:, ensembl_id].values).reshape((-1,))\n",
    "\n",
    "raw_gene_counts = numpy.array(vae.adata[:, ensembl_id].X.todense()).reshape((-1,))\n",
    "\n",
    "aavomics.plot_gene_expression(vae.adata.obsm[\"X_tsne\"], numpy.log2(raw_gene_counts+1))"
   ]
  }
 ],
 "metadata": {
  "kernelspec": {
   "display_name": "Python 3",
   "language": "python",
   "name": "python3"
  },
  "language_info": {
   "codemirror_mode": {
    "name": "ipython",
    "version": 3
   },
   "file_extension": ".py",
   "mimetype": "text/x-python",
   "name": "python",
   "nbconvert_exporter": "python",
   "pygments_lexer": "ipython3",
   "version": "3.7.0"
  }
 },
 "nbformat": 4,
 "nbformat_minor": 2
}
