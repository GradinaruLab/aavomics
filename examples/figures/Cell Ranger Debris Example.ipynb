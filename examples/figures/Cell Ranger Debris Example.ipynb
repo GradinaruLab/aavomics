{
 "cells": [
  {
   "cell_type": "code",
   "execution_count": null,
   "metadata": {},
   "outputs": [],
   "source": [
    "import os\n",
    "\n",
    "from aavomics import database\n",
    "from aavomics import aavomics\n",
    "import anndata\n",
    "import numpy\n",
    "import scipy.stats\n",
    "from scipy import stats\n",
    "from statsmodels.stats import proportion\n",
    "from statsmodels.stats import multitest\n",
    "\n",
    "import plotly.graph_objects as graph_objects\n",
    "from plotly import offline as plotly\n",
    "from sklearn.decomposition import PCA\n",
    "from sklearn.manifold import TSNE\n",
    "from sklearn import metrics\n",
    "from sklearn.cluster import AgglomerativeClustering\n",
    "import scanpy\n",
    "scanpy.settings.figdir = \"out\""
   ]
  },
  {
   "cell_type": "code",
   "execution_count": null,
   "metadata": {},
   "outputs": [],
   "source": [
    "CELL_SET_NAME = \"20190711_TC4\"\n",
    "ALIGNMENT_NAME = \"cellranger_5.0.1_gex_mm10_2020_A\"\n",
    "\n",
    "cell_set = database.CELL_SETS_DICT[CELL_SET_NAME]"
   ]
  },
  {
   "cell_type": "code",
   "execution_count": null,
   "metadata": {},
   "outputs": [],
   "source": [
    "adata = anndata.read_h5ad(cell_set.get_anndata_file_path(alignment_name=ALIGNMENT_NAME))"
   ]
  },
  {
   "cell_type": "code",
   "execution_count": null,
   "metadata": {},
   "outputs": [],
   "source": [
    "cell_ranger_filtered = adata[adata.obs[\"Cell Ranger Called\"]].copy()"
   ]
  },
  {
   "cell_type": "code",
   "execution_count": null,
   "metadata": {},
   "outputs": [],
   "source": [
    "non_zero_genes = cell_ranger_filtered.X.sum(axis=0) > 0\n",
    "\n",
    "cell_ranger_filtered = cell_ranger_filtered[:, non_zero_genes].copy()\n",
    "\n",
    "transcript_counts = numpy.array(cell_ranger_filtered.X.todense())\n",
    "\n",
    "transcript_counts = transcript_counts/transcript_counts.sum(axis=1).reshape((-1, 1))\n",
    "transcript_counts = transcript_counts * 5000\n",
    "transcript_counts = transcript_counts + 1\n",
    "transcript_counts = numpy.log10(transcript_counts)"
   ]
  },
  {
   "cell_type": "code",
   "execution_count": null,
   "metadata": {},
   "outputs": [],
   "source": [
    "print(\"Dimensionality reduction via PCA\")\n",
    "\n",
    "pca = PCA(n_components=50)\n",
    "transformed_PCA = pca.fit_transform(transcript_counts)"
   ]
  },
  {
   "cell_type": "code",
   "execution_count": null,
   "metadata": {},
   "outputs": [],
   "source": [
    "transformed_tSNE = TSNE(\n",
    "    verbose=True, perplexity=30, n_components=2, n_jobs=16).\\\n",
    "    fit_transform(transformed_PCA)"
   ]
  },
  {
   "cell_type": "code",
   "execution_count": null,
   "metadata": {},
   "outputs": [],
   "source": [
    "# Attempt agglomerative clustering for a range of clusters and find the highest one\n",
    "\n",
    "cluster_range = range(15, 16)\n",
    "\n",
    "silhouette_scores = []\n",
    "\n",
    "highest_silhouette_score = -numpy.inf\n",
    "highest_clusters = None\n",
    "\n",
    "for num_clusters in cluster_range:\n",
    "\n",
    "    print(\"Testing %i clusters\" % num_clusters)\n",
    "\n",
    "    clusterer = AgglomerativeClustering(n_clusters=num_clusters)\n",
    "    clusters = clusterer.fit_predict(transformed_PCA)\n",
    "\n",
    "    silhouette_score = metrics.silhouette_score(transformed_PCA, clusters)\n",
    "    \n",
    "    if silhouette_score > highest_silhouette_score:\n",
    "        highest_silhouette_score = silhouette_score\n",
    "        highest_clusters = clusters\n",
    "    silhouette_scores.append(silhouette_score)\n",
    "\n",
    "num_clusters = cluster_range[numpy.argmax(silhouette_scores)]\n",
    "clusters = highest_clusters"
   ]
  },
  {
   "cell_type": "code",
   "execution_count": null,
   "metadata": {},
   "outputs": [],
   "source": [
    "num_clusters = cluster_range[numpy.argmax(silhouette_scores)]\n",
    "clusterer = AgglomerativeClustering(n_clusters=num_clusters)\n",
    "clusters = clusterer.fit_predict(transformed_PCA)"
   ]
  },
  {
   "cell_type": "code",
   "execution_count": null,
   "metadata": {},
   "outputs": [],
   "source": [
    "aavomics.plot_clusters(transformed_tSNE, clusters, \"out/cell_ranger_called.html\")"
   ]
  },
  {
   "cell_type": "code",
   "execution_count": null,
   "metadata": {},
   "outputs": [],
   "source": [
    "cell_ranger_filtered.obs[\"Clusters\"] = clusters"
   ]
  },
  {
   "cell_type": "code",
   "execution_count": null,
   "metadata": {},
   "outputs": [],
   "source": [
    "transcript_counts_sum = numpy.mean(cell_ranger_filtered.X.sum(axis=1))\n",
    "scanpy.pp.normalize_total(cell_ranger_filtered,target_sum=transcript_counts_sum,inplace=True)"
   ]
  },
  {
   "cell_type": "code",
   "execution_count": null,
   "metadata": {},
   "outputs": [],
   "source": [
    "cell_type_marker_genes = [\n",
    "    \"Olig2\",\n",
    "    \"Aldh1l1\",\n",
    "    \"Rbfox3\",\n",
    "    \"Cldn5\",\n",
    "    \"Tmem119\"\n",
    "]"
   ]
  },
  {
   "cell_type": "code",
   "execution_count": null,
   "metadata": {},
   "outputs": [],
   "source": [
    "cell_ranger_filtered.obs[\"Clusters\"] = cell_ranger_filtered.obs[\"Clusters\"].astype(str)"
   ]
  },
  {
   "cell_type": "code",
   "execution_count": null,
   "metadata": {},
   "outputs": [],
   "source": [
    "cell_type_order = [\n",
    "    \"Astrocytes\",\n",
    "    \"Vascular Cells\",\n",
    "    \"Immune Cells\",\n",
    "    \"Oligodendrocytes\",\n",
    "    \"Neurons\"\n",
    "]\n",
    "\n",
    "scanpy.pl.dotplot(\n",
    "    cell_ranger_filtered,\n",
    "    cell_type_marker_genes,\n",
    "    groupby=\"Clusters\",\n",
    "    dendrogram=False,\n",
    "    gene_symbols=\"Gene Name\",\n",
    "    log=True,\n",
    "    figsize=(5, 5),\n",
    "    save=\"cell_ranger.svg\"\n",
    ")"
   ]
  },
  {
   "cell_type": "code",
   "execution_count": null,
   "metadata": {},
   "outputs": [],
   "source": []
  }
 ],
 "metadata": {
  "kernelspec": {
   "display_name": "Python 3",
   "language": "python",
   "name": "python3"
  },
  "language_info": {
   "codemirror_mode": {
    "name": "ipython",
    "version": 3
   },
   "file_extension": ".py",
   "mimetype": "text/x-python",
   "name": "python",
   "nbconvert_exporter": "python",
   "pygments_lexer": "ipython3",
   "version": "3.7.0"
  }
 },
 "nbformat": 4,
 "nbformat_minor": 2
}
