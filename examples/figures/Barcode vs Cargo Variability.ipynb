{
 "cells": [
  {
   "cell_type": "code",
   "execution_count": null,
   "metadata": {},
   "outputs": [],
   "source": [
    "import os\n",
    "\n",
    "from aavomics import database\n",
    "from aavomics import aavomics\n",
    "import anndata\n",
    "import pandas\n",
    "import numpy\n",
    "from scipy import stats\n",
    "\n",
    "import plotly.graph_objects as graph_objects\n",
    "from plotly import offline as plotly"
   ]
  },
  {
   "cell_type": "code",
   "execution_count": null,
   "metadata": {},
   "outputs": [],
   "source": [
    "VIRUS_NAME = \"PHP.eB\"\n",
    "\n",
    "TRANSDUCTION_RATE_FILE_NAME = \"aavomics_cell_type_transduction_rates.csv\""
   ]
  },
  {
   "cell_type": "code",
   "execution_count": null,
   "metadata": {},
   "outputs": [],
   "source": [
    "CELL_TYPE_HIERARCHY = {\n",
    "    \"Astrocytes\": {\n",
    "        \"Myoc- Astrocytes\": {},\n",
    "        \"Myoc+ Astrocytes\": {}\n",
    "    },\n",
    "    \"Vascular Cells\": {\n",
    "        \"Endothelial Cells\": {},\n",
    "        \"Pericytes\": {},\n",
    "        \"Red Blood Cells\": {},\n",
    "        \"Vascular SMCs\": {},\n",
    "        \"VLMCs\": {}\n",
    "    },\n",
    "    \"Immune Cells\": {\n",
    "        \"Microglia\": {},\n",
    "        \"Perivascular Macrophages\": {},\n",
    "        \"Leukocytes\": {}\n",
    "    },\n",
    "    \"Oligodendrocytes\": {\n",
    "        \"OPCs\": {},\n",
    "        \"Committed Oligodendrocytes\": {},\n",
    "        \"Mature Oligodendrocytes\": {}\n",
    "    }\n",
    "}\n",
    "\n",
    "cell_types = []\n",
    "\n",
    "for cell_type, cell_subtypes in CELL_TYPE_HIERARCHY.items():\n",
    "    cell_types.extend(cell_subtypes.keys())"
   ]
  },
  {
   "cell_type": "code",
   "execution_count": null,
   "metadata": {},
   "outputs": [],
   "source": [
    "transduction_rate_df = pandas.read_csv(os.path.join(database.DATA_PATH, TRANSDUCTION_RATE_FILE_NAME), index_col=0)"
   ]
  },
  {
   "cell_type": "code",
   "execution_count": null,
   "metadata": {},
   "outputs": [],
   "source": [
    "BARCODE_CELL_SET_NAME = \"20190321_BC2\"\n",
    "CARGO_CELL_SET_NAMES = [\"20181127_TC1\", \"20190319_TC2\", \"20190111_BC1\", \"20190321_BC2\"]"
   ]
  },
  {
   "cell_type": "code",
   "execution_count": null,
   "metadata": {},
   "outputs": [],
   "source": [
    "all_cell_types = set()\n",
    "\n",
    "for column_name in transduction_rate_df.columns:\n",
    "    if column_name.endswith(\"Transduction Rate\"):\n",
    "        all_cell_types.add(\" \".join(column_name.split()[0:-2]))"
   ]
  },
  {
   "cell_type": "code",
   "execution_count": null,
   "metadata": {},
   "outputs": [],
   "source": [
    "num_barcodes = 0\n",
    "barcode_x_values = []\n",
    "barcode_y_values = []\n",
    "\n",
    "cell_set_barcode_mask = (transduction_rate_df[\"Cell Set\"] == BARCODE_CELL_SET_NAME) & \\\n",
    "    (transduction_rate_df[\"Virus\"].str.contains(\"PHP.eB\")) & \\\n",
    "    (transduction_rate_df[\"Virus\"].str.contains(\"BC\"))\n",
    "\n",
    "for barcode_row in transduction_rate_df[cell_set_barcode_mask].iterrows():\n",
    "    \n",
    "    num_barcodes += 1\n",
    "    \n",
    "    cell_type_num_transduced = {cell_type: 0 for cell_type in CELL_TYPE_HIERARCHY}\n",
    "    \n",
    "    total_num_transduced = 0\n",
    "    \n",
    "    for cell_type in all_cell_types:\n",
    "        \n",
    "        num_cells = barcode_row[1][\"%s Num Cells\" % cell_type]\n",
    "        transduction_rate = barcode_row[1][\"%s Transduction Rate\" % cell_type]\n",
    "        \n",
    "        if numpy.isnan(num_cells):\n",
    "            continue\n",
    "        \n",
    "        num_transduced = num_cells * transduction_rate\n",
    "        \n",
    "        counts = False\n",
    "        for parent_cell_type, cell_subtypes in CELL_TYPE_HIERARCHY.items():\n",
    "            if cell_type in cell_subtypes:\n",
    "                cell_type_num_transduced[parent_cell_type] += num_transduced\n",
    "                counts = True\n",
    "\n",
    "        if counts:\n",
    "            total_num_transduced += num_transduced\n",
    "        \n",
    "    for cell_type in CELL_TYPE_HIERARCHY:\n",
    "        \n",
    "        barcode_x_values.append(cell_type)\n",
    "        barcode_y_values.append(cell_type_num_transduced[cell_type]/total_num_transduced*100)"
   ]
  },
  {
   "cell_type": "code",
   "execution_count": null,
   "metadata": {},
   "outputs": [],
   "source": [
    "barcode_x_values"
   ]
  },
  {
   "cell_type": "code",
   "execution_count": null,
   "metadata": {},
   "outputs": [],
   "source": [
    "barcode_y_values"
   ]
  },
  {
   "cell_type": "code",
   "execution_count": null,
   "metadata": {},
   "outputs": [],
   "source": [
    "num_cargo_cell_sets = 0\n",
    "cargo_x_values = []\n",
    "cargo_y_values = []\n",
    "\n",
    "cell_set_cargo_mask = (transduction_rate_df[\"Cell Set\"].isin(CARGO_CELL_SET_NAMES)) & \\\n",
    "    (transduction_rate_df[\"Virus\"].str.contains(\"PHP.eB\"))& \\\n",
    "    (~transduction_rate_df[\"Virus\"].str.contains(\"BC\"))\n",
    "\n",
    "for cargo_row in transduction_rate_df[cell_set_cargo_mask].iterrows():\n",
    "    \n",
    "    num_cargo_cell_sets += 1\n",
    "    \n",
    "    cell_type_num_transduced = {cell_type: 0 for cell_type in CELL_TYPE_HIERARCHY}\n",
    "    \n",
    "    total_num_transduced = 0\n",
    "    \n",
    "    for cell_type in all_cell_types:\n",
    "        \n",
    "        num_cells = cargo_row[1][\"%s Num Cells\" % cell_type]\n",
    "        transduction_rate = cargo_row[1][\"%s Transduction Rate\" % cell_type]\n",
    "        \n",
    "        if numpy.isnan(num_cells):\n",
    "            continue\n",
    "            \n",
    "        num_transduced = num_cells * transduction_rate\n",
    "        \n",
    "        counts = False\n",
    "        \n",
    "        for parent_cell_type, cell_subtypes in CELL_TYPE_HIERARCHY.items():\n",
    "            if cell_type in cell_subtypes:\n",
    "                cell_type_num_transduced[parent_cell_type] += num_transduced\n",
    "                counts = True\n",
    "\n",
    "        if counts:\n",
    "            total_num_transduced += num_transduced\n",
    "        \n",
    "    for cell_type in CELL_TYPE_HIERARCHY:\n",
    "        \n",
    "        cargo_x_values.append(cell_type)\n",
    "        cargo_y_values.append(cell_type_num_transduced[cell_type]/total_num_transduced*100)"
   ]
  },
  {
   "cell_type": "code",
   "execution_count": null,
   "metadata": {},
   "outputs": [],
   "source": [
    "cargo_x_values"
   ]
  },
  {
   "cell_type": "code",
   "execution_count": null,
   "metadata": {},
   "outputs": [],
   "source": [
    "cargo_y_values"
   ]
  },
  {
   "cell_type": "code",
   "execution_count": null,
   "metadata": {},
   "outputs": [],
   "source": [
    "traces = []\n",
    "\n",
    "trace = graph_objects.Box(\n",
    "    x=barcode_x_values,\n",
    "    y=barcode_y_values,\n",
    "    name=\"n=%i Barcodes\" % num_barcodes,\n",
    "    boxpoints=\"all\"\n",
    ")\n",
    "    \n",
    "traces.append(trace)\n",
    "\n",
    "trace = graph_objects.Box(\n",
    "    x=cargo_x_values,\n",
    "    y=cargo_y_values,\n",
    "    name=\"n=%i Animals\" % num_cargo_cell_sets,\n",
    "    boxpoints=\"all\",\n",
    "    text=CARGO_CELL_SET_NAMES\n",
    ")\n",
    "    \n",
    "traces.append(trace)\n",
    "\n",
    "layout = {\n",
    "    \"boxmode\": \"group\",\n",
    "    \"boxgroupgap\": 0.5,\n",
    "    \"width\": 500,\n",
    "    \"plot_bgcolor\": \"rgba(255, 255, 255, 0)\",\n",
    "    \"paper_bgcolor\": \"rgba(255, 255, 255, 0)\",\n",
    "    \"yaxis\": {\n",
    "        \"rangemode\": \"tozero\",\n",
    "        \"gridcolor\": \"rgba(0, 0, 0, 0.25)\",\n",
    "        \"zerolinecolor\": \"rgba(0, 0, 0, 0.25)\",\n",
    "        \"title\": \"Fraction of non-neuronal transduced cells (%)\"\n",
    "    }\n",
    "}\n",
    "\n",
    "figure = graph_objects.Figure(data=traces, layout=layout)\n",
    "\n",
    "plotly.iplot(figure)\n",
    "\n",
    "figure.write_image(os.path.join(\"out\", \"PHP-eB_barcode_vs_animal_tropism.svg\"))"
   ]
  },
  {
   "cell_type": "code",
   "execution_count": null,
   "metadata": {},
   "outputs": [],
   "source": []
  }
 ],
 "metadata": {
  "kernelspec": {
   "display_name": "Python 3",
   "language": "python",
   "name": "python3"
  },
  "language_info": {
   "codemirror_mode": {
    "name": "ipython",
    "version": 3
   },
   "file_extension": ".py",
   "mimetype": "text/x-python",
   "name": "python",
   "nbconvert_exporter": "python",
   "pygments_lexer": "ipython3",
   "version": "3.7.0"
  }
 },
 "nbformat": 4,
 "nbformat_minor": 2
}
