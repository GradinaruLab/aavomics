{
 "cells": [
  {
   "cell_type": "code",
   "execution_count": null,
   "metadata": {},
   "outputs": [],
   "source": [
    "from aavomics import database\n",
    "\n",
    "import anndata\n",
    "\n",
    "import os\n",
    "\n",
    "from plotly import graph_objects\n",
    "from plotly import offline as plotly"
   ]
  },
  {
   "cell_type": "code",
   "execution_count": null,
   "metadata": {},
   "outputs": [],
   "source": [
    "ANNDATA_FILE_NAME = \"aavomics_mouse_cortex_2021.h5ad\"\n",
    "TAXONOMY_NAME = \"CCN202105051\""
   ]
  },
  {
   "cell_type": "code",
   "execution_count": null,
   "metadata": {},
   "outputs": [],
   "source": [
    "adata = anndata.read_h5ad(os.path.join(database.DATA_PATH, ANNDATA_FILE_NAME))"
   ]
  },
  {
   "cell_type": "code",
   "execution_count": null,
   "metadata": {},
   "outputs": [],
   "source": [
    "non_neuon_mask = ~adata.obs[TAXONOMY_NAME].isna()\n",
    "non_neuron_adata = adata[non_neuon_mask].copy()"
   ]
  },
  {
   "cell_type": "code",
   "execution_count": null,
   "metadata": {},
   "outputs": [],
   "source": [
    "traces = []\n",
    "\n",
    "for cell_type in non_neuron_adata.obs[TAXONOMY_NAME].unique():\n",
    "    \n",
    "    if cell_type in [\"Multiplets\", \"Unknown\"]:\n",
    "        continue\n",
    "    \n",
    "    cell_type_mask = non_neuron_adata.obs[TAXONOMY_NAME] == cell_type\n",
    "    \n",
    "    trace = graph_objects.Scatter(\n",
    "        x=non_neuron_adata[cell_type_mask].obs[\"X_%s\" % TAXONOMY_NAME].values,\n",
    "        y=non_neuron_adata[cell_type_mask].obs[\"Y_%s\" % TAXONOMY_NAME].values,\n",
    "        name=cell_type,\n",
    "        mode=\"markers\",\n",
    "        marker={\n",
    "            \"size\": 5,\n",
    "            \"opacity\": 0.8\n",
    "        }\n",
    "    )\n",
    "    \n",
    "    traces.append(trace)\n",
    "    \n",
    "layout = {\n",
    "    \"plot_bgcolor\": \"rgba(255, 255, 255, 0)\",\n",
    "    \"paper_bgcolor\": \"rgba(255, 255, 255, 0)\",\n",
    "    \"width\": 2200,\n",
    "    \"height\": 2400,\n",
    "    \"xaxis\": {\n",
    "        \"showgrid\": False,\n",
    "        \"showticklabels\": False,\n",
    "        \"zeroline\": False\n",
    "    },\n",
    "    \"yaxis\": {\n",
    "        \"showgrid\": False,\n",
    "        \"showticklabels\": False,\n",
    "        \"zeroline\": False\n",
    "    },\n",
    "    \"showlegend\": False\n",
    "}\n",
    "\n",
    "figure = graph_objects.Figure(data=traces, layout=layout)\n",
    "\n",
    "figure.write_image(os.path.join(\"out\", \"non_neuron_tSNE.png\"), scale=2)\n",
    "figure.write_image(os.path.join(\"out\", \"non_neuron_tSNE.svg\"))"
   ]
  },
  {
   "cell_type": "code",
   "execution_count": null,
   "metadata": {},
   "outputs": [],
   "source": [
    "traces = []\n",
    "\n",
    "for cell_type in non_neuron_adata.obs[TAXONOMY_NAME].unique():\n",
    "    \n",
    "    if cell_type in [\"Multiplets\", \"Unknown\"]:\n",
    "        continue\n",
    "    \n",
    "    cell_type_mask = non_neuron_adata.obs[TAXONOMY_NAME] == cell_type\n",
    "    \n",
    "    trace = graph_objects.Scatter(\n",
    "        x=non_neuron_adata[cell_type_mask].obs[\"X_%s\" % TAXONOMY_NAME].values[::100],\n",
    "        y=non_neuron_adata[cell_type_mask].obs[\"Y_%s\" % TAXONOMY_NAME].values[::100],\n",
    "        name=cell_type,\n",
    "        mode=\"markers\",\n",
    "        marker={\n",
    "            \"size\": 50,\n",
    "            \"opacity\": 1\n",
    "        }\n",
    "    )\n",
    "    \n",
    "    traces.append(trace)\n",
    "    \n",
    "layout = {\n",
    "    \"plot_bgcolor\": \"rgba(255, 255, 255, 0)\",\n",
    "    \"paper_bgcolor\": \"rgba(255, 255, 255, 0)\",\n",
    "    \"width\": 2200,\n",
    "    \"height\": 2400,\n",
    "    \"xaxis\": {\n",
    "        \"showgrid\": False,\n",
    "        \"showticklabels\": False\n",
    "    },\n",
    "    \"yaxis\": {\n",
    "        \"showgrid\": False,\n",
    "        \"showticklabels\": False\n",
    "    }\n",
    "}\n",
    "\n",
    "figure = graph_objects.Figure(data=traces, layout=layout)\n",
    "\n",
    "figure.write_image(os.path.join(\"out\", \"non_neuron_tSNE_subsampled_inflated.png\"), scale=2)\n",
    "figure.write_image(os.path.join(\"out\", \"non_neuron_tSNE_subsampled_inflated.svg\"))"
   ]
  },
  {
   "cell_type": "code",
   "execution_count": null,
   "metadata": {},
   "outputs": [],
   "source": []
  }
 ],
 "metadata": {
  "kernelspec": {
   "display_name": "Python 3",
   "language": "python",
   "name": "python3"
  },
  "language_info": {
   "codemirror_mode": {
    "name": "ipython",
    "version": 3
   },
   "file_extension": ".py",
   "mimetype": "text/x-python",
   "name": "python",
   "nbconvert_exporter": "python",
   "pygments_lexer": "ipython3",
   "version": "3.7.0"
  }
 },
 "nbformat": 4,
 "nbformat_minor": 2
}
