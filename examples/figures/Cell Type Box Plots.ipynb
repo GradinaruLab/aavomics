{
 "cells": [
  {
   "cell_type": "code",
   "execution_count": null,
   "metadata": {},
   "outputs": [],
   "source": [
    "import os\n",
    "import numpy\n",
    "import pandas\n",
    "\n",
    "from aavomics import database\n",
    "import anndata\n",
    "\n",
    "from plotly import offline as plotly\n",
    "from plotly import graph_objects"
   ]
  },
  {
   "cell_type": "code",
   "execution_count": null,
   "metadata": {},
   "outputs": [],
   "source": [
    "ANNDATA_FILE_NAME = \"aavomics_mouse_cortex_2021.h5ad\""
   ]
  },
  {
   "cell_type": "code",
   "execution_count": null,
   "metadata": {},
   "outputs": [],
   "source": [
    "adata = anndata.read_h5ad(os.path.join(database.DATA_PATH, ANNDATA_FILE_NAME))"
   ]
  },
  {
   "cell_type": "code",
   "execution_count": null,
   "metadata": {},
   "outputs": [],
   "source": [
    "CELL_SET_NAMES = [\"20181127_TC1\", \"20190319_TC2\", \"20190111_BC1\", \"20190321_BC2\", \"20190711_TC4\", \"20190712_TC5\", \"20190713_TC6\", \"20190713_TC7\", \"20200720_BC4_1\", \"20200720_BC4_2\", \"20210726_TC11\", \"20200907_C3\", \"20201119_C4\", \"20210728_C5\", \"20210728_TC12\", \"20200903_TC8\", \"20200904_TC9\", \"20201120_TC10\"]"
   ]
  },
  {
   "cell_type": "code",
   "execution_count": null,
   "metadata": {},
   "outputs": [],
   "source": [
    "CELL_TYPE_HIERARCHY = {\n",
    "    \"Astrocytes\": {\n",
    "        \"Myoc- Astrocytes\": {},\n",
    "        \"Myoc+ Astrocytes\": {}\n",
    "    },\n",
    "    \"Vascular Cells\": {\n",
    "        \"Endothelial Cells\": {},\n",
    "        \"Pericytes\": {},\n",
    "        \"Red Blood Cells\": {},\n",
    "        \"Vascular SMCs\": {},\n",
    "        \"VLMCs\": {}\n",
    "    },\n",
    "    \"Immune Cells\": {\n",
    "        \"Perivascular Macrophages\": {},\n",
    "        \"Microglia\": {},\n",
    "        \"Leukocytes\": {}\n",
    "    },\n",
    "    \"Oligodendrocytes\": {\n",
    "        \"OPCs\": {},\n",
    "        \"Committed Oligodendrocytes\": {},\n",
    "        \"Mature Oligodendrocytes\": {}\n",
    "    },\n",
    "    \"Neurons\": {\n",
    "        \"Neurons\": {}\n",
    "    }\n",
    "}"
   ]
  },
  {
   "cell_type": "code",
   "execution_count": null,
   "metadata": {},
   "outputs": [],
   "source": [
    "TAXONOMY_NAMES = [\"CCN202105051\", \"CCN202105041\"]\n",
    "\n",
    "names_all, samples_all = [], []\n",
    "\n",
    "for cell_set_name in CELL_SET_NAMES:\n",
    "\n",
    "    cell_set_adata = adata[adata.obs[\"Cell Set\"] == cell_set_name].copy()\n",
    "    \n",
    "    cell_type_counts = {}\n",
    "    \n",
    "    for cell_type_name in CELL_TYPE_HIERARCHY:\n",
    "\n",
    "        cell_type_mask = numpy.zeros((cell_set_adata.shape[0], )).astype(numpy.bool)\n",
    "\n",
    "        for taxonomy_name in TAXONOMY_NAMES:\n",
    "            cell_type_mask = cell_type_mask | cell_set_adata.obs[taxonomy_name].isin(CELL_TYPE_HIERARCHY[cell_type_name].keys())\n",
    "        \n",
    "        cell_type_counts[cell_type_name] = cell_type_mask.sum()\n",
    "    \n",
    "    print(cell_set_name)\n",
    "    df = pandas.DataFrame.from_dict(cell_type_counts, orient=\"index\", columns=[\"Num Cells\"])\n",
    "    df[\"% of cells\"] = df[\"Num Cells\"]/df[\"Num Cells\"].sum()*100\n",
    "    display(df)\n",
    "    names_all.append(cell_set_name)\n",
    "    samples_all.append(df)"
   ]
  },
  {
   "cell_type": "code",
   "execution_count": null,
   "metadata": {},
   "outputs": [],
   "source": [
    "types = {'Oligodendrocytes':[],'Vascular Cells':[],'Astrocytes':[],'Immune Cells':[],'Neurons':[]}\n",
    "sample_names = {'Oligodendrocytes':[],'Vascular Cells':[],'Astrocytes':[],'Immune Cells':[],'Neurons':[]}\n",
    "    \n",
    "for name, df in zip(names_all,samples_all):\n",
    "    if name not in CELL_SET_NAMES:\n",
    "        continue\n",
    "    for index, row in df.iterrows():\n",
    "        types[index].append(row['% of cells'])\n",
    "        sample_names[index].append(name)\n",
    "\n",
    "fig = graph_objects.Figure()\n",
    "for k in types.keys():\n",
    "    fig.add_trace(graph_objects.Box(y=types[k],x=[k]*len(types[k]),name=k,text=sample_names[k]))\n",
    "\n",
    "layout = {}\n",
    "\n",
    "layout[\"plot_bgcolor\"] = \"rgba(255, 255, 255, 0)\"\n",
    "layout[\"paper_bgcolor\"] = \"rgba(255, 255, 255, 0)\"\n",
    "layout[\"yaxis\"] = {\n",
    "    \"title\": {\n",
    "        \"text\": \"% of Cells\",\n",
    "    },\n",
    "    \"tickvals\": numpy.linspace(0, 60, 7),\n",
    "    \"ticktext\": [\"%i\" % x for x in numpy.linspace(0, 60, 7)],\n",
    "    \"rangemode\": \"tozero\",\n",
    "    \"gridcolor\": \"rgba(0, 0, 0, 0.25)\",\n",
    "    \"zerolinecolor\": \"rgba(0, 0, 0, 0.25)\"\n",
    "}\n",
    "layout[\"title\"] = \"Cell Type Distribution Across Major Cell Types\"\n",
    "\n",
    "fig.update_traces(boxpoints='all', jitter=0.3, pointpos=-1.8)\n",
    "fig.update_layout(layout)\n",
    "fig.show()\n",
    "\n",
    "fig.write_image(os.path.join(\"out\", \"major_cell_type_distribution_study_samples_only.svg\"))"
   ]
  },
  {
   "cell_type": "code",
   "execution_count": null,
   "metadata": {},
   "outputs": [],
   "source": []
  }
 ],
 "metadata": {
  "kernelspec": {
   "display_name": "Python 3",
   "language": "python",
   "name": "python3"
  },
  "language_info": {
   "codemirror_mode": {
    "name": "ipython",
    "version": 3
   },
   "file_extension": ".py",
   "mimetype": "text/x-python",
   "name": "python",
   "nbconvert_exporter": "python",
   "pygments_lexer": "ipython3",
   "version": "3.7.0"
  }
 },
 "nbformat": 4,
 "nbformat_minor": 2
}
