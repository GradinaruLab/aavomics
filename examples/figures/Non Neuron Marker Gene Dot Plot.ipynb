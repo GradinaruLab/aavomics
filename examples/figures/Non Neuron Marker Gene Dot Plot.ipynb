{
 "cells": [
  {
   "cell_type": "code",
   "execution_count": null,
   "metadata": {},
   "outputs": [],
   "source": [
    "import os\n",
    "import numpy\n",
    "import pandas\n",
    "\n",
    "from aavomics import database\n",
    "import anndata\n",
    "import scanpy\n",
    "scanpy.settings.figdir = \"out\""
   ]
  },
  {
   "cell_type": "code",
   "execution_count": null,
   "metadata": {},
   "outputs": [],
   "source": [
    "ANNDATA_FILE_NAME = \"aavomics_mouse_cortex_2021.h5ad\"\n",
    "TAXONOMY_NAME = \"CCN202105051\""
   ]
  },
  {
   "cell_type": "code",
   "execution_count": null,
   "metadata": {},
   "outputs": [],
   "source": [
    "adata = anndata.read_h5ad(os.path.join(database.DATA_PATH, ANNDATA_FILE_NAME))\n",
    "non_neuon_mask = (~adata.obs[TAXONOMY_NAME].isna()) & (~adata.obs[TAXONOMY_NAME].isin([\"Unknown\", \"Multiplets\"]))\n",
    "non_neuron_adata = adata[non_neuon_mask].copy()"
   ]
  },
  {
   "cell_type": "code",
   "execution_count": null,
   "metadata": {},
   "outputs": [],
   "source": [
    "transcript_counts_sum = numpy.mean(non_neuron_adata.X.sum(axis=1))"
   ]
  },
  {
   "cell_type": "code",
   "execution_count": null,
   "metadata": {},
   "outputs": [],
   "source": [
    "scanpy.pp.normalize_total(non_neuron_adata, target_sum=transcript_counts_sum, inplace=True)"
   ]
  },
  {
   "cell_type": "code",
   "execution_count": null,
   "metadata": {},
   "outputs": [],
   "source": [
    "cell_type_marker_genes = {\n",
    "    \"Astrocytes\": [\n",
    "        \"Sox9\",\n",
    "        \"Myoc\"\n",
    "    ],\n",
    "    \"Vascular Cells\": [\n",
    "        \"Cldn5\",\n",
    "        \"Slc2a1\",\n",
    "        \"Pdgfrb\",\n",
    "        \"Rgs5\",\n",
    "        \"Abcc9\",\n",
    "        \"Hba-a1\",\n",
    "        \"Acta2\",\n",
    "        \"Tagln\",\n",
    "        \"Vtn\",\n",
    "        \"Lum\"\n",
    "    ],\n",
    "    \"Immune Cells\": [\n",
    "        \"Cx3cr1\",\n",
    "        \"Tmem119\",\n",
    "        \"Mrc1\",\n",
    "        \"Itgal\"\n",
    "    ],\n",
    "    \"Oligodendrocytes\": [\n",
    "        \"Pdgfra\",\n",
    "        \"Ptprz1\",\n",
    "        \"Bmp4\",\n",
    "        \"Mag\"\n",
    "    ]\n",
    "}\n",
    "\n",
    "cell_type_marker_ensembl_ids = {}\n",
    "\n",
    "for cell_type in cell_type_marker_genes:\n",
    "    cell_type_marker_ensembl_ids[cell_type] = []\n",
    "    \n",
    "    for gene_name in cell_type_marker_genes[cell_type]:\n",
    "        ensembl_id = adata.var[adata.var[\"Gene Name\"] == gene_name].index.values[0]\n",
    "        cell_type_marker_ensembl_ids[cell_type].append(ensembl_id)"
   ]
  },
  {
   "cell_type": "code",
   "execution_count": null,
   "metadata": {},
   "outputs": [],
   "source": [
    "cell_type_order = [\n",
    "    \"Myoc- Astrocytes\",\n",
    "    \"Myoc+ Astrocytes\",\n",
    "    \"Endothelial Cells\",\n",
    "    \"Pericytes\",\n",
    "    \"Red Blood Cells\",\n",
    "    \"Vascular SMCs\",\n",
    "    \"VLMCs\",\n",
    "    \"Microglia\",\n",
    "    \"Perivascular Macrophages\",\n",
    "    \"Leukocytes\",\n",
    "    \"OPCs\",\n",
    "    \"Committed Oligodendrocytes\",\n",
    "    \"Mature Oligodendrocytes\"\n",
    "]\n",
    "\n",
    "scanpy.pl.dotplot(\n",
    "    non_neuron_adata,\n",
    "    cell_type_marker_genes,\n",
    "    categories_order=cell_type_order,\n",
    "    groupby=TAXONOMY_NAME,\n",
    "    dendrogram=False,\n",
    "    gene_symbols=\"Gene Name\",\n",
    "    log=True,\n",
    "    save=\"non_neuron_subtypes.svg\"\n",
    ")"
   ]
  },
  {
   "cell_type": "code",
   "execution_count": null,
   "metadata": {},
   "outputs": [],
   "source": []
  }
 ],
 "metadata": {
  "kernelspec": {
   "display_name": "Python 3",
   "language": "python",
   "name": "python3"
  },
  "language_info": {
   "codemirror_mode": {
    "name": "ipython",
    "version": 3
   },
   "file_extension": ".py",
   "mimetype": "text/x-python",
   "name": "python",
   "nbconvert_exporter": "python",
   "pygments_lexer": "ipython3",
   "version": "3.7.0"
  }
 },
 "nbformat": 4,
 "nbformat_minor": 2
}
