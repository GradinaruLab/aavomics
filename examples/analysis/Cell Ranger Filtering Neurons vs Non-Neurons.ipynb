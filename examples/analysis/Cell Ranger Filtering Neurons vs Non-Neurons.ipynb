{
 "cells": [
  {
   "cell_type": "code",
   "execution_count": null,
   "metadata": {},
   "outputs": [],
   "source": [
    "from aavomics import database\n",
    "from aavomics import aavomics\n",
    "import anndata\n",
    "import os\n",
    "import pandas\n",
    "import numpy\n",
    "from scipy import stats\n",
    "\n",
    "from plotly import offline as plotly\n",
    "from plotly import graph_objects"
   ]
  },
  {
   "cell_type": "code",
   "execution_count": null,
   "metadata": {},
   "outputs": [],
   "source": [
    "adata = anndata.read_h5ad(os.path.join(database.DATA_PATH, \"aavomics_mouse_cortex_2021.h5ad\"))"
   ]
  },
  {
   "cell_type": "code",
   "execution_count": null,
   "metadata": {},
   "outputs": [],
   "source": [
    "neuron_cell_ranger_filtered_ratios = []\n",
    "non_neuron_cell_ranger_filtered_ratios = []\n",
    "\n",
    "for cluster in adata.obs[\"CCN202105070\"].unique():\n",
    "    \n",
    "    if cluster == \"nan\":\n",
    "        continue\n",
    "    \n",
    "    cluster_mask = adata.obs[\"CCN202105070\"] == cluster\n",
    "    \n",
    "    neuron_mask = adata[cluster_mask].obs[\"CCN202105041\"] == \"Neurons\"\n",
    "    non_neuron_mask = adata[cluster_mask].obs[\"CCN202105041\"] == \"Non-Neurons\"\n",
    "    \n",
    "    cell_ranger_filtered_ratio = 1 - (adata[cluster_mask].obs[\"Cell Ranger Called\"]).sum()/cluster_mask.sum()\n",
    "    \n",
    "    print(\"%.2f%%\" % (neuron_mask.sum()/cluster_mask.sum()*100), \"%.2f%%\" % (non_neuron_mask.sum()/cluster_mask.sum()*100))\n",
    "    \n",
    "    print(cluster, cell_ranger_filtered_ratio)\n",
    "    \n",
    "    if neuron_mask.sum() > non_neuron_mask.sum():\n",
    "        neuron_cell_ranger_filtered_ratios.append(cell_ranger_filtered_ratio)\n",
    "    else:\n",
    "        non_neuron_cell_ranger_filtered_ratios.append(cell_ranger_filtered_ratio)"
   ]
  },
  {
   "cell_type": "code",
   "execution_count": null,
   "metadata": {},
   "outputs": [],
   "source": [
    "stats.ttest_ind(neuron_cell_ranger_filtered_ratios, non_neuron_cell_ranger_filtered_ratios)"
   ]
  },
  {
   "cell_type": "code",
   "execution_count": null,
   "metadata": {
    "scrolled": false
   },
   "outputs": [],
   "source": [
    "neuron_cell_ranger_filtered_ratios = []\n",
    "non_neuron_cell_ranger_filtered_ratios = []\n",
    "\n",
    "for cluster in adata.obs[\"c_CCN202105051\"].unique():\n",
    "    \n",
    "    if cluster == \"nan\":\n",
    "        continue\n",
    "    \n",
    "    cluster_mask = adata.obs[\"c_CCN202105051\"] == cluster\n",
    "    \n",
    "    cell_ranger_filtered_ratio = (adata[cluster_mask].obs[\"Cell Ranger Called\"]).sum()/cluster_mask.sum()\n",
    "    \n",
    "    cell_ranger_filtered_ratio = (1 - cell_ranger_filtered_ratio)/cell_ranger_filtered_ratio * 100\n",
    "    \n",
    "    print(cluster, cluster_mask.sum(), adata[cluster_mask].obs[\"Cell Type\"].values[0], cell_ranger_filtered_ratio)"
   ]
  },
  {
   "cell_type": "code",
   "execution_count": null,
   "metadata": {},
   "outputs": [],
   "source": []
  }
 ],
 "metadata": {
  "kernelspec": {
   "display_name": "Python 3",
   "language": "python",
   "name": "python3"
  },
  "language_info": {
   "codemirror_mode": {
    "name": "ipython",
    "version": 3
   },
   "file_extension": ".py",
   "mimetype": "text/x-python",
   "name": "python",
   "nbconvert_exporter": "python",
   "pygments_lexer": "ipython3",
   "version": "3.7.0"
  }
 },
 "nbformat": 4,
 "nbformat_minor": 2
}
