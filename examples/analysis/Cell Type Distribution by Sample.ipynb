{
 "cells": [
  {
   "cell_type": "code",
   "execution_count": null,
   "metadata": {},
   "outputs": [],
   "source": [
    "from aavomics import database\n",
    "import pandas\n",
    "import numpy\n",
    "import anndata\n",
    "import os"
   ]
  },
  {
   "cell_type": "code",
   "execution_count": null,
   "metadata": {},
   "outputs": [],
   "source": [
    "ALIGNMENT_NAME = \"cellranger_5.0.1_gex_mm10_2020_A\"\n",
    "TAXONOMY_NAMES = [\"CCN202105050\", \"CCN202105051\"]"
   ]
  },
  {
   "cell_type": "code",
   "execution_count": null,
   "metadata": {},
   "outputs": [],
   "source": [
    "cell_set_cell_type_counts = {}\n",
    "\n",
    "for cell_set in database.CELL_SETS:\n",
    "    \n",
    "    print(cell_set.name)\n",
    "    \n",
    "    cell_set_cell_type_counts[cell_set.name] = {}\n",
    "    \n",
    "    adata = anndata.read_h5ad(cell_set.get_anndata_file_path(alignment_name=ALIGNMENT_NAME))\n",
    "    \n",
    "    for taxonomy_name in TAXONOMY_NAMES:\n",
    "        \n",
    "        for cell_type in adata.obs[taxonomy_name].unique():\n",
    "            \n",
    "            if cell_type in [\"Unknown\", \"Multiplets\"] or cell_type == \"nan\":\n",
    "                continue\n",
    "            \n",
    "            cell_type_mask = (adata.obs[taxonomy_name] == cell_type) & (adata.obs[\"Cell Called\"] == \"True\")\n",
    "            \n",
    "            cell_set_cell_type_counts[cell_set.name][cell_type] = cell_type_mask.sum()"
   ]
  },
  {
   "cell_type": "code",
   "execution_count": null,
   "metadata": {},
   "outputs": [],
   "source": [
    "if not os.path.exists(\"out\"):\n",
    "    os.makedirs(\"out\")\n",
    "\n",
    "pandas.DataFrame.from_dict(cell_set_cell_type_counts, orient=\"index\").to_csv(os.path.join(\"out\", \"cell_type_distribution_by_sample.csv\"))"
   ]
  },
  {
   "cell_type": "code",
   "execution_count": null,
   "metadata": {},
   "outputs": [],
   "source": []
  }
 ],
 "metadata": {
  "kernelspec": {
   "display_name": "Python 3",
   "language": "python",
   "name": "python3"
  },
  "language_info": {
   "codemirror_mode": {
    "name": "ipython",
    "version": 3
   },
   "file_extension": ".py",
   "mimetype": "text/x-python",
   "name": "python",
   "nbconvert_exporter": "python",
   "pygments_lexer": "ipython3",
   "version": "3.7.0"
  }
 },
 "nbformat": 4,
 "nbformat_minor": 2
}
