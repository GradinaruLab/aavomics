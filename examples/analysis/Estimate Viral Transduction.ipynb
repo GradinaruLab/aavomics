{
 "cells": [
  {
   "cell_type": "code",
   "execution_count": null,
   "metadata": {},
   "outputs": [],
   "source": [
    "import os\n",
    "import pandas\n",
    "\n",
    "from aavomics import database\n",
    "from aavomics import aavomics\n",
    "import anndata"
   ]
  },
  {
   "cell_type": "code",
   "execution_count": null,
   "metadata": {},
   "outputs": [],
   "source": [
    "ALIGNMENT_NAME = \"cellranger_5.0.1_gex_mm10_2020_A_AAVomics\"\n",
    "TAXONOMY_ALIGNMENT_NAME = \"cellranger_5.0.1_gex_mm10_2020_A\"\n",
    "\n",
    "DEBRIS_TAXONOMY_NAME = \"CCN202105041\"\n",
    "TAXONOMY_NAME = \"CCN202105060\"\n",
    "\n",
    "FILE_NAME = \"aavomics_cell_type_transduction_rates.csv\"\n",
    "\n",
    "TRANSDUCTION_RATE_METHOD = aavomics.Infection_Rate_Method.COUNTING\n",
    "TRANSDUCTION_THRESHOLD = None"
   ]
  },
  {
   "cell_type": "code",
   "execution_count": null,
   "metadata": {},
   "outputs": [],
   "source": [
    "cell_set = database.CELL_SETS_DICT[\"20190703_TC3\"]\n",
    "tissue_sample = cell_set.source_tissue\n",
    "animal = tissue_sample.animal\n",
    "injections = animal.injections"
   ]
  },
  {
   "cell_type": "code",
   "execution_count": null,
   "metadata": {},
   "outputs": [],
   "source": [
    "sample_virus_cell_type_transduction_dict = {}\n",
    "\n",
    "for cell_set in database.CELL_SETS:\n",
    "    \n",
    "    print(\"Inspecting %s\" % cell_set.name)\n",
    "    \n",
    "    tissue_sample = cell_set.source_tissue\n",
    "    animal = tissue_sample.animal\n",
    "\n",
    "    if animal.injections is None:\n",
    "        print(\"%s has no injections, skipping.\" % cell_set.name)\n",
    "        continue\n",
    "        \n",
    "    adata = anndata.read_h5ad(cell_set.get_anndata_file_path(alignment_name=ALIGNMENT_NAME))\n",
    "    adata.obs[\"AAV\"] = adata[:, \"AAV\"].X.todense()\n",
    "    \n",
    "    taxonomy_adata = anndata.read_h5ad(cell_set.get_anndata_file_path(alignment_name=TAXONOMY_ALIGNMENT_NAME))\n",
    "    \n",
    "    called_cells_adata = taxonomy_adata[~taxonomy_adata.obs[TAXONOMY_NAME].isna()].copy()\n",
    "    cell_types = called_cells_adata.obs[TAXONOMY_NAME].unique()\n",
    "        \n",
    "    injections = animal.injections\n",
    "\n",
    "    read_sets = set()\n",
    "\n",
    "    for sequencing_library in cell_set.sequencing_libraries:\n",
    "        if sequencing_library.type == \"Virus Transcripts\":\n",
    "            read_sets.update(sequencing_library.read_sets)\n",
    "    \n",
    "    virus_and_vector_names = set()\n",
    "    \n",
    "    if len(read_sets) == 0:\n",
    "        print(\"No amplified reads to disambiguate. Only estimating overall transduction\")\n",
    "    else:\n",
    "        virus_vector_names = {}\n",
    "\n",
    "        for injection in injections:\n",
    "\n",
    "            for vector in injection.vector_pool.vectors:\n",
    "\n",
    "                virus = vector.delivery_vehicle\n",
    "\n",
    "                if virus.name not in virus_vector_names:\n",
    "                    virus_vector_names[virus.name] = set([vector.name])\n",
    "                else:\n",
    "                    virus_vector_names[virus.name].add(vector.name)\n",
    "\n",
    "        for virus_name, vector_names in virus_vector_names.items():\n",
    "\n",
    "            virus_and_vector_names.add(virus_name)\n",
    "\n",
    "            if len(vector_names) > 1:\n",
    "                virus_and_vector_names.update(vector_names)\n",
    "    \n",
    "    virus_and_vector_names.add(\"AAV\")\n",
    "                \n",
    "    for column_name in virus_and_vector_names:\n",
    "        \n",
    "        row_name = \"-\".join([cell_set.name, column_name])\n",
    "        \n",
    "        print(\"Processing %s in %s\" % (column_name, cell_set.name))\n",
    "        \n",
    "        sample_virus_cell_type_transduction_dict[row_name] = {}\n",
    "\n",
    "        debris_counts = adata[taxonomy_adata.obs[DEBRIS_TAXONOMY_NAME] == \"Debris\"].obs[column_name]\n",
    "\n",
    "        for cell_type in cell_types:\n",
    "            \n",
    "            cell_type_mask = taxonomy_adata.obs[TAXONOMY_NAME] == cell_type\n",
    "\n",
    "            cell_type_counts = adata[cell_type_mask].obs[column_name].values\n",
    "\n",
    "            virus_rate = aavomics.get_transcript_presence_rate(\n",
    "                cell_type_counts,\n",
    "                method=TRANSDUCTION_RATE_METHOD,\n",
    "                background_transcript_counts=debris_counts,\n",
    "                resolution=400,\n",
    "                threshold=TRANSDUCTION_THRESHOLD\n",
    "            )\n",
    "            \n",
    "            if isinstance(virus_rate, tuple):\n",
    "                virus_rate = virus_rate[0]\n",
    "                \n",
    "            num_transduced = virus_rate * cell_type_mask.sum()\n",
    "\n",
    "            sample_virus_cell_type_transduction_dict[row_name][\"%s Transduction Rate\" % cell_type] = virus_rate\n",
    "            sample_virus_cell_type_transduction_dict[row_name][\"%s Num Transduced\" % cell_type] = num_transduced"
   ]
  },
  {
   "cell_type": "code",
   "execution_count": null,
   "metadata": {},
   "outputs": [],
   "source": [
    "transduction_rate_df = pandas.DataFrame.from_dict(sample_virus_cell_type_transduction_dict, orient=\"index\")\n",
    "transduction_rate_df[\"Cell Set\"] = [x[0] for x in transduction_rate_df.index.str.split(\"-\")]\n",
    "transduction_rate_df[\"Virus\"] = [\"-\".join(x[1:]) for x in transduction_rate_df.index.str.split(\"-\")]"
   ]
  },
  {
   "cell_type": "code",
   "execution_count": null,
   "metadata": {},
   "outputs": [],
   "source": [
    "transduction_rate_df.to_csv(os.path.join(database.DATA_PATH, FILE_NAME))"
   ]
  },
  {
   "cell_type": "code",
   "execution_count": null,
   "metadata": {},
   "outputs": [],
   "source": []
  }
 ],
 "metadata": {
  "kernelspec": {
   "display_name": "Python 3",
   "language": "python",
   "name": "python3"
  },
  "language_info": {
   "codemirror_mode": {
    "name": "ipython",
    "version": 3
   },
   "file_extension": ".py",
   "mimetype": "text/x-python",
   "name": "python",
   "nbconvert_exporter": "python",
   "pygments_lexer": "ipython3",
   "version": "3.7.0"
  }
 },
 "nbformat": 4,
 "nbformat_minor": 2
}
