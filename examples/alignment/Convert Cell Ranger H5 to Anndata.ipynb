{
 "cells": [
  {
   "cell_type": "code",
   "execution_count": null,
   "metadata": {},
   "outputs": [],
   "source": [
    "import os\n",
    "\n",
    "from aavomics import database\n",
    "\n",
    "import scrapi"
   ]
  },
  {
   "cell_type": "code",
   "execution_count": null,
   "metadata": {},
   "outputs": [],
   "source": [
    "for alignment in database.ALIGNMENTS:\n",
    "\n",
    "    for cell_set in database.CELL_SETS:\n",
    "\n",
    "        # Get the raw Cell Ranger file\n",
    "        cell_ranger_raw_h5_file_path = cell_set.get_cell_ranger_h5_file_path(filtered=False, alignment_name=alignment.name)\n",
    "\n",
    "        # Check to make sure the aligned file exists. If not, something's wrong!\n",
    "        if not os.path.exists(cell_ranger_raw_h5_file_path):\n",
    "            print(\"Missing alignment for %s, skipping\" % cell_set.name)\n",
    "            continue\n",
    "\n",
    "        # Write it out to a file\n",
    "        anndata_file_path = cell_set.get_anndata_file_path(alignment_name=alignment.name)\n",
    "\n",
    "        # Check to make sure the converted file doesn't exist\n",
    "        if os.path.exists(anndata_file_path):\n",
    "            print(\"Already converted %s, skipping\" % cell_set.name)\n",
    "            continue\n",
    "\n",
    "        print(\"Converting %s\" % cell_set.name)\n",
    "        # Convert the Cell Ranger matrix to anndata\n",
    "        adata = scrapi.utils.fileio.convert_cellranger_h5_to_anndata(cell_ranger_raw_h5_file_path)\n",
    "\n",
    "        # Get the filtered matrix also - we will use this to set a flag in the main anndata to track what cells were filtered by Cell Ranger\n",
    "        cell_ranger_filtered_h5_file_path = cell_set.get_cell_ranger_h5_file_path(filtered=True, alignment_name=alignment.name)\n",
    "        adata_filtered = scrapi.utils.fileio.convert_cellranger_h5_to_anndata(cell_ranger_filtered_h5_file_path)\n",
    "        adata.obs[\"Cell Ranger Called\"] = adata.obs.index.isin(adata_filtered.obs.index)\n",
    "        \n",
    "        print(\"Writing %s\" % cell_set.name)\n",
    "        # Write Anndata out to file\n",
    "        adata.write(anndata_file_path)\n",
    "        print(\"Done writing %s\" % cell_set.name)"
   ]
  },
  {
   "cell_type": "code",
   "execution_count": null,
   "metadata": {},
   "outputs": [],
   "source": []
  }
 ],
 "metadata": {
  "kernelspec": {
   "display_name": "Python 3",
   "language": "python",
   "name": "python3"
  },
  "language_info": {
   "codemirror_mode": {
    "name": "ipython",
    "version": 3
   },
   "file_extension": ".py",
   "mimetype": "text/x-python",
   "name": "python",
   "nbconvert_exporter": "python",
   "pygments_lexer": "ipython3",
   "version": "3.7.0"
  }
 },
 "nbformat": 4,
 "nbformat_minor": 2
}
