{
 "cells": [
  {
   "cell_type": "code",
   "execution_count": null,
   "metadata": {},
   "outputs": [],
   "source": [
    "import os\n",
    "import shutil\n",
    "\n",
    "import subprocess\n",
    "\n",
    "from aavomics import database"
   ]
  },
  {
   "cell_type": "code",
   "execution_count": null,
   "metadata": {},
   "outputs": [],
   "source": [
    "BASE_REFERENCE_NAME = \"refdata-gex-mm10-2020-A\"\n",
    "NEW_REFERENCE_NAME = \"refdata-gex-mm10-2020-A-AAVomics\""
   ]
  },
  {
   "cell_type": "code",
   "execution_count": null,
   "metadata": {},
   "outputs": [],
   "source": [
    "source_reference_FASTA_path = os.path.join(database.DATA_PATH, \"references\", BASE_REFERENCE_NAME, \"fasta\", \"genome.fa\")\n",
    "source_reference_GTF_path = os.path.join(database.DATA_PATH, \"references\", BASE_REFERENCE_NAME, \"genes\", \"genes.gtf\")\n",
    "\n",
    "if os.path.exists(\"tmp\"):\n",
    "    shutil.rmtree(\"tmp\")\n",
    "    \n",
    "os.makedirs(\"tmp\")\n",
    "\n",
    "reference_FASTA_path = os.path.join(\"tmp\", \"genome.fa\")\n",
    "reference_GTF_path = os.path.join(\"tmp\", \"genes.gtf\")\n",
    "\n",
    "shutil.copy(source_reference_FASTA_path, reference_FASTA_path)\n",
    "shutil.copy(source_reference_GTF_path, reference_GTF_path)"
   ]
  },
  {
   "cell_type": "code",
   "execution_count": null,
   "metadata": {},
   "outputs": [],
   "source": [
    "template_segments = {\n",
    "    \"CAG_mNeonGreen\": [\"mNeonGreen\", \"stop\", \"WPRE_1\", \"WPRE_2\", \"WPRE_polyA\"],\n",
    "    \"CAG_mRuby2_NLS\": [\"mRuby2\", \"2xNLS\", \"WPRE_1\", \"WPRE_2\", \"WPRE_polyA\"],\n",
    "    \"CAG_mNeonGreen_NLS\": [\"mNeonGreen\", \"2xNLS\", \"WPRE_1\", \"WPRE_2\", \"WPRE_polyA\"],\n",
    "    \"mNeonGreen\": [\"mNeonGreen\", \"polyA\"],\n",
    "    \"CAG_tdTomato_NLS\": [\"tdTomato_1\", \"tdTomato_2\", \"2xNLS\", \"WPRE_1\", \"WPRE_2\", \"WPRE_polyA\"],\n",
    "    \"CAG_tdTomato\": [\"tdTomato_1\", \"polyA_2\", \"WPRE_2\", \"WPRE_polyA\"],\n",
    "    \"AAV9_cap\": [\"AAV9_cap\"],\n",
    "    \"UBC_mCherry\": [\"mCherry\", \"polyA\"],\n",
    "    \"CAG_hFXN\": [\"hFXN\", \"WPRE_polyA\"]\n",
    "}\n",
    "\n",
    "segments = [\n",
    "    \"mNeonGreen\",\n",
    "    \"stop\",\n",
    "    \"mRuby2\",\n",
    "    \"tdTomato_1\",\n",
    "    \"tdTomato_2\",\n",
    "    \"hFXN\",\n",
    "    \"mCherry\",\n",
    "    \"polyA\",\n",
    "    \"polyA_2\",\n",
    "    \"2xNLS\",\n",
    "    \"WPRE_1\",\n",
    "    \"WPRE_2\",\n",
    "    \"WPRE_polyA\",\n",
    "    \"AAV9_cap\"\n",
    "]\n",
    "\n",
    "segment_sequences = {\n",
    "    \"mNeonGreen\": \"CGCCACCATGGTGAGCAAGGGCGAGGAGGATAACATGGCCTCTCTCCCAGCGACACATGAGTTACACATCTTTGGCTCCATCAACGGTGTGGACTTTGACATGGTGGGTCAGGGCACCGGCAATCCAAATGATGGTTATGAGGAGTTAAACCTGAAGTCCACCAAGGGTGACCTCCAGTTCTCCCCCTGGATTCTGGTCCCTCATATCGGGTATGGCTTCCATCAGTACCTGCCCTACCCTGACGGGATGTCGCCTTTCCAGGCCGCCATGGTAGATGGCTCCGGATACCAAGTCCATCGCACAATGCAGTTTGAAGATGGTGCCTCCCTTACTGTTAACTACCGCTACACCTACGAGGGAAGCCACATCAAAGGAGAGGCCCAGGTGAAGGGGACTGGTTTCCCTGCTGACGGTCCTGTGATGACCAACTCGCTGACCGCTGCGGACTGGTGCAGGTCGAAGAAGACTTACCCCAACGACAAAACCATCATCAGTACCTTTAAGTGGAGTTACACCACTGGAAATGGCAAGCGCTACCGGAGCACTGCGCGGACCACCTACACCTTTGCCAAGCCAATGGCGGCTAACTATCTGAAGAACCAGCCGATGTACGTGTTCCGTAAGACGGAGCTCAAGCACTCCAAGACCGAGCTCAACTTCAAGGAGTGGCAAAAGGCCTTTACCGATGTGATGGGCATGGACGAGCTGTACAAG\",\n",
    "    \"stop\": \"TGA\",\n",
    "    \"mRuby2\": \"CGCCACCATGGTGAGCAAGGGAGAGGAACTCATCAAGGAGAACATGCGCATGAAGGTAGTCATGGAAGGGTCTGTGAATGGGCATCAGTTCAAGTGCACAGGGGAAGGTGAAGGGAATCCCTACATGGGTACTCAGACCATGAGGATCAAGGTTATTGAAGGTGGCCCTCTCCCGTTTGCCTTCGACATTCTTGCCACTAGCTTCATGTATGGCAGTCGGACCTTCATCAAGTACCCCAAAGGCATTCCAGACTTCTTCAAACAGTCCTTTCCAGAGGGCTTCACATGGGAAAGGGTGACCCGTTACGAGGATGGTGGTGTGGTCACAGTCATGCAGGACACTAGTCTGGAGGACGGATGTCTGGTCTATCACGTGCAAGTGAGAGGGGTGAACTTTCCCTCCAATGGGCCTGTGATGCAGAAGAAAACCAAAGGGTGGGAGCCAAACACAGAGATGATGTATCCTGCAGATGGAGGACTGAGAGGCTATACGCACATGGCTCTGAAGGTTGACGGAGGAGGCCACTTGTCATGCTCATTTGTGACCACGTACAGGAGCAAGAAAACTGTCGGCAACATCAAAATGCCTGGCATACATGCGGTTGATCACCGCTTGGAACGACTGGAGGAGTCTGACAACGAGATGTTTGTGGTACAACGGGAACATGCAGTTGCCAAGTTTGCTGGCCTTGGCGGAGGAATGGATGAGCTGTACAAG\",\n",
    "    \"tdTomato_1\": \"CGCCACCATGGTGTCAAAGGGAGAGGAAGTCATCAAGGAATTCATGCGGTTTAAAGTTCGCATGGAAGGGAGCATGAACGGCCATGAATTCGAGATCGAAGGGGAGGGAGAGGGCCGACCATACGAGGGGACACAGACGGCGAAATTGAAAGTGACCAAAGGAGGACCCTTGCCATTCGCTTGGGACATTCTGTCCCCTCAGTTCATGTACGGAAGTAAGGCCTATGTGAAGCATCCTGCCGATATTCCCGACTATAAGAAACTGTCCTTCCCGGAGGGGTTCAAGTGGGAAAGAGTGATGAATTTCGAGGATGGCGGGCTCGTGACCGTCACCCAAGATAGCAGCTTGCAGGACGGAACACTGATCTACAAGGTCAAGATGAGGGGCACTAATTTCCCTCCTGATGGTCCTGTCATGCAAAAGAAAACCATGGGGTGGGAAGCAAGTACGGAACGCCTGTACCCACGGGACGGTGTTCTGAAGGGCGAGATACATCAGGCACTTAAACTCAAGGACGGCGGCCACTATCTGGTCGAATTTAAGACGATCTATATGGCAAAGAAACCAGTACAGCTCCCGGGTTACTACTATGTGGACACTAAACTTGACATTACAAGTCACAACGAGGACTATACCATCGTGGAACAGTATGAACGCTCTGAGGGGAGGCACCATCTGTTTCTTGGCCATGGAACAGGCAGCACAGGATCTGGATCATCTGGCACTGCATCCAGCGAGGATAACAACATGGCCGTGATTAAGGAGTTCATGAGGTTCAAAGTTCGTATGGAGGGATCAATGAATGGCCACGAATTCGAAATCGAGGGTGAAGGGGAGGGTAGACCCTACGAGGGCACTCAGACAGCCAAGCTGAAGGTAACCAAGGGCGGACCTCTGCCTTTTGCTTGGGACATCCTGTCTCCCCAGTTTATGTACGGTAGCAAGGCCTATGTCAAACACCCAGCTGACATCCCGGACTACAAGAAGCTCTCCTTTCCAGAAGGCTTTAAGTGGGAGCGGGTTATGAACTTCGAGGATGGTGGGCTTGTAACTGTGACCCAGGATTCCAGTCTGCAGGATGGGACTCTGATTTACAAAGTGAAAATGCGTGGAACTAACTTTCCACCCGATGGCCCCGTTATGCAGAAGAAAACAATGGGCTGGGAAGCTAGCACCGAGAGACTGTATCCTAGGGATGGAGTGCTGAAGGGTGAGATCCACCAAGCTCTGAAACTCAAAGATGGCGGACATTACCTGGTGGAGTTTAAGACCATATACATGGCCAAGAAGCCCGTGCAATTGCCCGGGTACTACTACGTAGACACAAAGCTGGACATAACCTCACACAATGAGGACTACACAATTGTCGAACAGTATGAGCGATCTGAGGGTAGACACCACCTCTTTCTCTATGGGATGGATGAGCTGTATAAA\",\n",
    "    \"mCherry\": \"GGCCGCCATGGTCAGCAAGGGCGAGGAGGATAACATGGCCATCATCAAGGAGTTCATGCGCTTCAAGGTGCACATGGAGGGCTCCGTGAACGGCCACGAGTTCGAGATCGAGGGCGAGGGCGAGGGCCGCCCCTACGAGGGCACCCAGACCGCCAAGCTGAAGGTGACCAAGGGTGGCCCCCTGCCCTTCGCCTGGGACATCCTGTCCCCTCAATTCATGTATGGCTCCAAGGCCTACGTGAAGCACCCCGCCGACATCCCCGACTACTTGAAGCTGTCCTTCCCCGAGGGCTTCAAGTGGGAGCGCGTGATGAACTTCGAGGACGGCGGCGTGGTGACCGTGACCCAGGACTCCTCCTTACAAGACGGCGAGTTCATCTACAAAGTGAAGCTGCGCGGCACCAACTTCCCCTCCGACGGCCCCGTAATGCAGAAGAAGACCATGGGCTGGGAGGCCTCCTCCGAGCGGATGTACCCCGAGGACGGCGCCCTGAAGGGCGAGATCAAGCAGAGGCTGAAGCTGAAGGACGGCGGCCACTACGACGCTGAGGTCAAGACCACCTACAAGGCCAAGAAGCCCGTGCAGCTGCCCGGCGCCTACAACGTCAACATCAAGTTGGACATCACCTCCCACAACGAGGACTACACCATCGTGGAACAGTACGAACGCGCCGAGGGCCGCCACTCCACCGGCGGCATGGACGAGCTGTACAAG\",\n",
    "    \"hFXN\": \"CGCCACCATGTGGACTCTCGGGAGACGCGCAGTAGCTGGATTGCTGGCATCACCTAGCCCAGCCCAGGCCCAGACTCTCACCCGGGTCCCTCGGCCGGCAGAGTTGGCCCCACTCTGCGGTCGCCGTGGCCTGCGCACCGACATCGATGCGACCTGCACGCCCCGCCGCGCAAGTTCGAACCAACGTGGCCTCAACCAGATTTGGAATGTCAAAAAGCAGAGTGTCTATTTGATGAATTTGAGGAAATCTGGAACTTTGGGCCACCCAGGCTCACTAGATGAGACCACCTATGAAAGACTAGCAGAGGAAACGCTGGACTCTTTAGCAGAGTTTTTTGAAGACCTTGCAGACAAGCCATACACCTTTGAGGACTATGATGTCTCCTTTGGGAGTGGTGTCTTAACTGTCAAACTGGGTGGCGATCTAGGAACCTATGTGATCAACAAGCAGACGCCAAACAAGCAAATCTGGCTATCTTCTCCATCCAGTGGACCTAAGCGTTATGACTGGACTGGGAAAAACTGGGTGTACTCCCACGACGGCGTGTCCCTCCATGAGCTGCTGGCCGCAGAGCTGACTAAAGCCTTAAAAACCAAACTGGACTTGTCTTCCTTGGCCTATTCCGGAAAAGATGCTAGCGACTATAAGGACCATGATGGAGATTACAAAGATCATGACGACTACAAGGACGACGACGATAAATGAGAATTCAAGCTT\",\n",
    "    \"tdTomato_2\": \"CGATTGTACAAG\",\n",
    "    \"2xNLS\": \"GGAAGCCCCAAGAAAAAGCGGAAGGTGTGA\",\n",
    "    \"WPRE_1\": \"GAATTCGATATC\",\n",
    "    \"polyA_2\": \"AAGCTGAACCCTCCTGATGAGAGTGGCCCCGGCTGCATGAGCTGCAAGTGTGTGCTCTCCTGA\",\n",
    "    \"WPRE_2\": \"AAGCTTATCGATAATCAACCTCTGGATTACAAAATTTGTGAAAGATTGACTGGTATTCTTAACTATGTTGCTCCTTTTACGCTATGTGGATACGCTGCTTTAATGCCTTTGTATCATGCTATTGCTTCCCGTATGGCTTTCATTTTCTCCTCCTTGTATAAATCCTGGTTGCTGTCTCTTTATGAGGAGTTGTGGCCCGTTGTCAGGCAACGTGGCGTGGTGTGCACTGTGTTTGCTGACGCAACCCCCACTGGTTGGGGCATTGCCACCACCTGTCAGCTCCTTTCCGGGACTTTCGCTTTCCCCCTCCCTATTGCCACGGCGGAACTCATCGCCGCCTGCCTTGCCCGCTGCTGGACAGGGGCTCGGCTGTTGGGCACTGACAATTCCGTGGTGTTGTCGGGGAAATCATCGTCCTTTCCTTGGCTGCTCGCCTATGTTGCCACCTGGATTCTGCGCGGGACGTCCTTCTGCTACGTCCCTTCGGCCCTCAATCCAGCGGACCTTCCTTCCCGCGGCCTGCTGCCGGCTCTGCGGCCTCTTCCGCGTCTTCGCCTTCGCCCTCAGACGAGTCGGATCTCCCTTTGGGCCGCCTCCCCGCATCGATACCGAGCGCTG\",\n",
    "    \"WPRE_polyA\": \"CTCGAGAGATCTACGGGTGGCATCCCTGTGACCCCTCCCCAGTGCCTCTCCTGGCCCTGGAAGTTGCCACTCCAGTGCCCACCAGCCTTGTCCTAATAAAATTAAGTTGCATCATTTTGTCTGACTAGGTGTCCTTCTATAATATTATGGGGTGGAGGGGGGTGGTATGGAGCAA\",\n",
    "    \"polyA\": \"TAAAGGATCCCCTCCCCCGTGCCTTCCTTGACCCTGGAAGGTGCCACTCCCACTGTCCTTTCCTCCTCCTAGGAATAAAATATCTTTATTTTCATTACATCTGTGTGTTGGTTTTTTGTGT\",\n",
    "    \"AAV9_cap\": \"ATGGCTGCCGATGGTTATCTTCCAGATTGGCTCGAGGACAACCTTAGTGAAGGAATTCGCGAGTGGTGGGCTTTGAAACCTGGAGCCCCTCAACCCAAGGCAAATCAACAACATCAAGACAACGCTCGAGGTCTTGTGCTTCCGGGTTACAAATACCTTGGACCCGGCAACGGACTCGACAAGGGGGAGCCGGTCAACGCAGCAGACGCGGCGGCCCTCGAGCACGACAAGGCCTACGACCAGCAGCTCAAGGCCGGAGACAACCCGTACCTCAAGTACAACCACGCCGACGCCGAGTTCCAGGAGCGGCTCAAAGAAGATACGTCTTTTGGGGGCAACCTCGGGCGAGCAGTCTTCCAGGCCAAAAAGAGGCTTCTTGAACCTCTTGGTCTGGTTGAGGAAGCGGCTAAGACGGCTCCTGGAAAGAAGAGGCCTGTAGAGCAGTCTCCTCAGGAACCGGACTCCTCCGCGGGTATTGGCAAATCGGGTGCACAGCCCGCTAAAAAGAGACTCAATTTCGGTCAGACTGGCGACACAGAGTCAGTCCCAGACCCTCAACCAATCGGAGAACCTCCCGCAGCCCCCTCAGGTGTGGGATCTCTTACAATGGCTTCAGGTGGTGGCGCACCAGTGGCAGACAATAACGAAGGTGCCGATGGAGTGGGTAGTTCCTCGGGAAATTGGCATTGCGATTCCCAATGGCTGGGGGACAGAGTCATCACCACCAGCACCCGAACCTGGGCCCTGCCCACCTACAACAATCACCTCTACAAGCAAATCTCCAACAGCACATCTGGAGGATCTTCAAATGACAACGCCTACTTCGGCTACAGCACCCCCTGGGGGTATTTTGACTTCAACAGATTCCACTGCCACTTCTCACCACGTGACTGGCAGCGACTCATCAACAACAACTGGGGATTCCGGCCTAAGCGACTCAACTTCAAGCTCTTCAACATTCAGGTCAAAGAGGTTACGGACAACAATGGAGTCAAGACCATCGCCAATAACCTTACCAGCACGGTCCAGGTCTTCACGGACTCAGACTATCAGCTCCCGTACGTGCTCGGGTCGGCTCACGAGGGCTGCCTCCCGCCGTTCCCAGCGGACGTTTTCATGATTCCTCAGTACGGGTATCTGACGCTTAATGATGGAAGCCAGGCCGTGGGTCGTTCGTCCTTTTACTGCCTGGAATATTTCCCGTCGCAAATGCTAAGAACGGGTAACAACTTCCAGTTCAGCTACGAGTTTGAGAACGTACCTTTCCATAGCAGCTACGCTCACAGCCAAAGCCTGGACCGACTAATGAATCCACTCATCGACCAATACTTGTACTATCTCTCTAGAACTATTAACGGTTCTGGACAGAATCAACAAACGCTAAAATTCAGTGTGGCCGGACCCAGCAACATGGCTGTCCAGGGAAGAAACTACATACCTGGACCCAGCTACCGACAACAACGTGTCTCAACCACTGTGACTCAAAACAACAACAGCGAATTTGCTTGGCCTGGAGCTTCTTCTTGGGCTCTCAATGGACGTAATAGCTTGATGAATCCTGGACCTGCTATGGCCTCTCACAAAGAAGGAGAGGACCGTTTCTTTCCTTTGTCTGGATCTTTAATTTTTGGCAAACAAGGTACTGGCAGAGACAACGTGGATGCGGACAAAGTCATGATAACCAACGAAGAAGAAATTAAAACTACTAACCCGGTAGCAACGGAGTCCTATGGACAAGTGGCCACAAACCACCAGAGTGCCCAAGCACAGGCGCAGACCGGTTGGGTTCAAAACCAAGGAATACTTCCGGGTATGGTTTGGCAGGACAGAGATGTGTACCTGCAAGGACCCATTTGGGCCAAAATTCCTCACACGGACGGCAACTTTCACCCTTCTCCGCTGATGGGAGGGTTTGGAATGAAGCACCCGCCTCCTCAGATCCTCATCAAAAACACACCTGTACCTGCGGATCCTCCAACGGCCTTCAACAAGGACAAGCTGAACTCTTTCATCACCCAGTATTCTACTGGCCAAGTCAGCGTGGAGATCGAGTGGGAGCTGCAGAAGGAAAACAGCAAGCGCTGGAACCCGGAGATCCAGTACACTTCCAACTATTACAAGTCTAATAATGTTGAATTTGCTGTTAATACTGAAGGTGTATATAGTGAACCCCGCCCCATTGGCACCAGATACCTGACTCGTAATCTGTAAGTCGACTACCGTTCGTATAGCATACATTATACGAAGTTATCATATGTTCGAGCAGACATGATAAGATACATTGATGAGTTTGGACAAACCACAACTAGAATGCAGTGAAAAAAATGCTTTATTTGTGAAATTTGTGATGCTATTGCTTTATTTGTAACCATTATAAGCTGCAATAAA\"\n",
    "}"
   ]
  },
  {
   "cell_type": "code",
   "execution_count": null,
   "metadata": {},
   "outputs": [],
   "source": [
    "merged_sequence = \"\"\n",
    "\n",
    "for segment in segments:\n",
    "    print(\"%s of length %i starts at %i\" % (segment, len(segment_sequences[segment]), len(merged_sequence) + 1))\n",
    "    merged_sequence += segment_sequences[segment]"
   ]
  },
  {
   "cell_type": "code",
   "execution_count": null,
   "metadata": {},
   "outputs": [],
   "source": [
    "merged_sequence"
   ]
  },
  {
   "cell_type": "code",
   "execution_count": null,
   "metadata": {},
   "outputs": [],
   "source": [
    "with open(reference_FASTA_path, \"a\") as reference_FASTA_file:\n",
    "        \n",
    "    reference_FASTA_file.write(\">AAV\\n\")\n",
    "\n",
    "    sequence_index = 0\n",
    "\n",
    "    while sequence_index < len(merged_sequence):\n",
    "\n",
    "        reference_FASTA_file.write(\"%s\\n\" % merged_sequence[sequence_index:sequence_index + 60])\n",
    "\n",
    "        sequence_index += 60"
   ]
  },
  {
   "cell_type": "code",
   "execution_count": null,
   "metadata": {},
   "outputs": [],
   "source": [
    "for template in database.TEMPLATES:\n",
    "\n",
    "    for template_segment in template_segments[template.name]:\n",
    "        segment_start_index = 0\n",
    "\n",
    "        for segment in segments:\n",
    "            if segment == template_segment:\n",
    "                break\n",
    "            segment_start_index += len(segment_sequences[segment])\n",
    "\n",
    "        segment_end_index = segment_start_index + len(segment_sequences[template_segment])\n",
    "\n",
    "        segment_start_index += 1\n",
    "\n",
    "        line = \"AAV\\tBROWN\\texon\\t%i\\t%i\\t.\\t+\\t.\\tgene_id \\\"%s\\\"; transcript_id \\\"%s_%s\\\"; gene_name \\\"%s\\\"; gene_biotype \\\"protein_coding\\\";\\n\" % \\\n",
    "            (segment_start_index, segment_end_index, template.name, template.name, template_segment, template.name)\n",
    "\n",
    "        print(line)"
   ]
  },
  {
   "cell_type": "code",
   "execution_count": null,
   "metadata": {},
   "outputs": [],
   "source": [
    "with open(reference_GTF_path, \"a\") as reference_GTF_file:\n",
    "\n",
    "    for template in database.TEMPLATES:\n",
    "        \n",
    "        cumulative_template_sequence = \"\"\n",
    "\n",
    "        current_transcript_id = []\n",
    "        cumulative_segment_start_index = None\n",
    "        previous_end_index = None\n",
    "\n",
    "        for template_segment in template_segments[template.name]:\n",
    "\n",
    "            segment_start_index = 0\n",
    "\n",
    "            for segment in segments:\n",
    "\n",
    "                if segment == template_segment:\n",
    "                    break\n",
    "\n",
    "                segment_start_index += len(segment_sequences[segment])\n",
    "\n",
    "            segment_end_index = segment_start_index + len(segment_sequences[template_segment])\n",
    "\n",
    "    #         print(template_segment, segment_start_index, previous_end_index)\n",
    "            # If this segment is continous with the previous one, we keep looping\n",
    "            if previous_end_index is None or segment_start_index == previous_end_index:\n",
    "                current_transcript_id.append(template_segment)\n",
    "                previous_end_index = segment_end_index\n",
    "\n",
    "                if cumulative_segment_start_index is None:\n",
    "                    cumulative_segment_start_index = segment_start_index + 1\n",
    "                continue\n",
    "            # Otherwise we're done and can print this one\n",
    "            else:\n",
    "                line = \"AAV\\tBROWN\\texon\\t%i\\t%i\\t.\\t+\\t.\\tgene_id \\\"AAV\\\"; transcript_id \\\"%s\\\"; gene_name \\\"AAV\\\"; gene_biotype \\\"protein_coding\\\"; exon_id \\\"%s_%s\\\";\\n\" % \\\n",
    "                    (cumulative_segment_start_index, previous_end_index, template.name, template.name, \"_\".join(current_transcript_id))\n",
    "                cumulative_template_sequence += merged_sequence[cumulative_segment_start_index-1:previous_end_index]\n",
    "                current_transcript_id = [template_segment]\n",
    "                cumulative_segment_start_index = segment_start_index + 1\n",
    "                previous_end_index = segment_end_index\n",
    "                print(line)\n",
    "                reference_GTF_file.write(line)\n",
    "\n",
    "        if cumulative_segment_start_index is not None:\n",
    "            line = \"AAV\\tBROWN\\texon\\t%i\\t%i\\t.\\t+\\t.\\tgene_id \\\"AAV\\\"; transcript_id \\\"%s\\\"; gene_name \\\"AAV\\\"; gene_biotype \\\"protein_coding\\\"; exon_id \\\"%s_%s\\\";\\n\" % \\\n",
    "                (cumulative_segment_start_index, previous_end_index, template.name, template.name, \"_\".join(current_transcript_id))\n",
    "            cumulative_template_sequence += merged_sequence[cumulative_segment_start_index-1:previous_end_index]\n",
    "            print(line)\n",
    "            reference_GTF_file.write(line)\n",
    "    \n",
    "        if cumulative_template_sequence != template.sequence:\n",
    "            print(\"Something went wrong during sequence reconstruction, expected sequence of length %i, got sequence of length %i\" % (len(template.sequence), len(cumulative_template_sequence)))"
   ]
  },
  {
   "cell_type": "code",
   "execution_count": null,
   "metadata": {},
   "outputs": [],
   "source": [
    "result = subprocess.run(\n",
    "    [\n",
    "        \"cellranger\",\n",
    "        \"mkref\",\n",
    "        \"--genome=%s\" % NEW_REFERENCE_NAME,\n",
    "        \"--fasta=genome.fa\",\n",
    "        \"--genes=genes.gtf\",\n",
    "        \"--nthreads=15\"\n",
    "    ],\n",
    "    cwd=\"tmp\",\n",
    ")"
   ]
  },
  {
   "cell_type": "code",
   "execution_count": null,
   "metadata": {},
   "outputs": [],
   "source": [
    "shutil.move(os.path.join(\"tmp\", NEW_REFERENCE_NAME), os.path.join(database.DATA_PATH, \"references\", NEW_REFERENCE_NAME))"
   ]
  },
  {
   "cell_type": "code",
   "execution_count": null,
   "metadata": {},
   "outputs": [],
   "source": [
    "shutil.rmtree(\"tmp\")"
   ]
  }
 ],
 "metadata": {
  "kernelspec": {
   "display_name": "Python 3",
   "language": "python",
   "name": "python3"
  },
  "language_info": {
   "codemirror_mode": {
    "name": "ipython",
    "version": 3
   },
   "file_extension": ".py",
   "mimetype": "text/x-python",
   "name": "python",
   "nbconvert_exporter": "python",
   "pygments_lexer": "ipython3",
   "version": "3.7.0"
  }
 },
 "nbformat": 4,
 "nbformat_minor": 2
}
