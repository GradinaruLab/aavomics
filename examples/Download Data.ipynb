{
 "cells": [
  {
   "cell_type": "code",
   "execution_count": null,
   "metadata": {},
   "outputs": [],
   "source": [
    "import os\n",
    "import shutil\n",
    "import tarfile\n",
    "from os.path import expanduser\n",
    "import pandas"
   ]
  },
  {
   "cell_type": "code",
   "execution_count": null,
   "metadata": {},
   "outputs": [],
   "source": [
    "# Choose the location of your data directory\n",
    "os.environ[\"AAVOMICS_PATH\"] = os.path.expanduser(\"~/aavomics_data\")"
   ]
  },
  {
   "cell_type": "code",
   "execution_count": null,
   "metadata": {},
   "outputs": [],
   "source": [
    "import aavomics\n",
    "\n",
    "from aavomics import database\n",
    "from pepars.fileio import fileio"
   ]
  },
  {
   "cell_type": "markdown",
   "metadata": {},
   "source": [
    "# Download the database files"
   ]
  },
  {
   "cell_type": "code",
   "execution_count": null,
   "metadata": {},
   "outputs": [],
   "source": [
    "FILES_TO_DOWNLOAD = {\n",
    "    \"database\": {\n",
    "        \"Alignments.csv\": \"https://data.caltech.edu/tindfiles/serve/6701d6ef-ee8b-4316-8f79-5533a011ac1d/\",\n",
    "        \"Animals.csv\": \"https://data.caltech.edu/tindfiles/serve/55be5772-fbd4-4852-b7f7-4855181c4fd4/\",\n",
    "        \"Cell Sets.csv\": \"https://data.caltech.edu/tindfiles/serve/15ec4be7-6e77-43d7-8d3d-c8a219241ef6/\",\n",
    "        \"Dissociation Runs.csv\": \"https://data.caltech.edu/tindfiles/serve/100feb00-6a76-4139-99ba-6d3bcd3e5199/\",\n",
    "        \"Injections.csv\": \"https://data.caltech.edu/tindfiles/serve/af750209-e6c5-4f6a-a508-d1c7a10ea99c/\",\n",
    "        \"Read Sets.csv\": \"https://data.caltech.edu/tindfiles/serve/de1103d2-7221-47fb-82fa-d05579e6a8e8/\",\n",
    "        \"References.csv\": \"https://data.caltech.edu/tindfiles/serve/5232dd34-c856-4206-b7b0-626bc4dcc481/\",\n",
    "        \"Sequencing Libraries.csv\": \"https://data.caltech.edu/tindfiles/serve/f835967f-89f2-4274-a7e6-20439e8fafc1/\",\n",
    "        \"Sequencing Runs.csv\": \"https://data.caltech.edu/tindfiles/serve/a402f196-8f74-4941-bc07-8c8e5c0b0256/\",\n",
    "        \"Templates.csv\": \"https://data.caltech.edu/tindfiles/serve/36dec17b-c9af-4805-9dad-bff890b6c49d/\",\n",
    "        \"Tissue Samples.csv\": \"https://data.caltech.edu/tindfiles/serve/012a00a3-f1df-46c2-b422-5780b621d548/\",\n",
    "        \"Vector Pools.csv\": \"https://data.caltech.edu/tindfiles/serve/e5796184-df3a-42d5-b9aa-2f01b54308ee/\",\n",
    "        \"Vectors.csv\": \"https://data.caltech.edu/tindfiles/serve/86ecec8f-9cc7-4835-abc3-e42a93e41f59/\",\n",
    "        \"Viruses.csv\": \"https://data.caltech.edu/tindfiles/serve/0b188950-2b76-4c41-8427-2d7282bd1a57/\"\n",
    "    },\n",
    "    \".\": {\n",
    "        \"CCN202105070_marker_gene_clusters.csv\":  \"https://data.caltech.edu/tindfiles/serve/89a0a7e8-9a22-43a6-9c97-5569556fc36e/\",\n",
    "        \"aavomics_cell_type_transduction_rates.csv\":  \"https://data.caltech.edu/tindfiles/serve/2fe89158-45c3-4a6b-b5e3-253b4ed02695/\",\n",
    "        \"aavomics_marker_gene_transduction_rates.csv\":  \"https://data.caltech.edu/tindfiles/serve/95c885e4-3ac9-4dbf-a950-f55654d33526/\",\n",
    "        \"aavomics_SRA_file_metadata.csv\":  \"https://data.caltech.edu/tindfiles/serve/0a9efb98-49d1-4504-bc21-96b3b5efb170/\",\n",
    "        \"aavomics_SRA_metadata.csv\":  \"https://data.caltech.edu/tindfiles/serve/e10f3886-9550-4d85-aba6-f1e81fb86bd9/\",\n",
    "        \"CCN202105070_aavomics_cluster_transduction_rates.csv\":  \"https://data.caltech.edu/tindfiles/serve/5037b46a-89a9-476f-b56e-56faa5281ba5/\",\n",
    "        \"aavomics_sample_metadata.csv\":  \"https://data.caltech.edu/tindfiles/serve/80437b7c-bbf3-43ab-887b-e4193061eeb7/\",\n",
    "        \"CCN202105070_gene_clusters.csv\":  \"https://data.caltech.edu/tindfiles/serve/a76ab506-0e44-4e70-9fc5-502186880c0d/\",\n",
    "        \"aavomics_immune_study_DE_3_vs_25_DPI.xlsx\":  \"https://data.caltech.edu/tindfiles/serve/a56e671f-5f5e-4ea3-8ebf-f9d567975f7e/\",\n",
    "        \"aavomics_cell_metadata.csv\":  \"https://data.caltech.edu/tindfiles/serve/0196c57d-e00e-453a-88ac-d7ab5b46f22f/\",\n",
    "        \"aavomics_mouse_cortex_2021_droplet_training_data.h5ad\":  \"https://data.caltech.edu/tindfiles/serve/e7563f14-af07-4bb2-a4fe-11784bca8006/\",\n",
    "        \"aavomics_mouse_cortex_2021.h5ad\":  \"https://data.caltech.edu/tindfiles/serve/1df614db-0d72-4d41-8c44-581043793349/\"\n",
    "    }\n",
    "}"
   ]
  },
  {
   "cell_type": "code",
   "execution_count": null,
   "metadata": {},
   "outputs": [],
   "source": [
    "for file_path in FILES_TO_DOWNLOAD:\n",
    "    \n",
    "    for file_name, file_URL in FILES_TO_DOWNLOAD[file_path].items():\n",
    "        \n",
    "        download_path = os.path.join(database.DATA_PATH, file_path, file_name)\n",
    "        \n",
    "        fileio.download_remote_file(file_URL, download_path, skip_if_exists=True)"
   ]
  },
  {
   "cell_type": "code",
   "execution_count": null,
   "metadata": {},
   "outputs": [],
   "source": [
    "database.load_database()"
   ]
  },
  {
   "cell_type": "markdown",
   "metadata": {},
   "source": [
    "# Download preprocessed data"
   ]
  },
  {
   "cell_type": "code",
   "execution_count": null,
   "metadata": {},
   "outputs": [],
   "source": [
    "CELLRANGER_REFERENCE = \"refdata-gex-mm10-2020-A\"\n",
    "CELLRANGER_REFERENCE_URL = \"https://cf.10xgenomics.com/supp/cell-exp/\" + CELLRANGER_REFERENCE + \".tar.gz\"\n",
    "CELLRANGER_DOWNLOAD_PATH = os.path.join(database.DATA_PATH, \"references\")"
   ]
  },
  {
   "cell_type": "markdown",
   "metadata": {},
   "source": [
    "# Download references"
   ]
  },
  {
   "cell_type": "code",
   "execution_count": null,
   "metadata": {},
   "outputs": [],
   "source": [
    "# TODO: Add raw FASTQ files\n",
    "\n",
    "FILES_TO_DOWNLOAD = {\n",
    "    \"references\": {\n",
    "        \"refdata-gex-mm10-2020-A.tar.gz\": \"https://data.caltech.edu/tindfiles/serve/dafa7bec-a84b-4dfe-a965-ba82abe4f3d5/\"\n",
    "    },\n",
    "    os.path.join(\"reference_databases\", \"20200331_Allen_Cortex_Hippocampus_10X_v3\"): {\n",
    "        \"metadata.csv\": \"https://idk-etl-prod-download-bucket.s3.amazonaws.com/aibs_mouse_ctx-hip_10x/metadata.csv\",\n",
    "        \"matrix.csv\": \"https://idk-etl-prod-download-bucket.s3.amazonaws.com/aibs_mouse_ctx-hip_10x/matrix.csv\"\n",
    "    },\n",
    "    os.path.join(\"references\", \"mm10-allen-premRNA\", \"fasta\"): {\n",
    "        \"genome.fa.gz\": \"ftp://ftp.ensembl.org/pub/release-84/fasta/mus_musculus/dna/Mus_musculus.GRCm38.dna.primary_assembly.fa.gz\"\n",
    "    },\n",
    "    os.path.join(\"references\", \"mm10-allen-premRNA\", \"genes\"): {\n",
    "        \"genes.gtf.gz\": \"https://data.caltech.edu/tindfiles/serve/66e6df77-2766-45fb-b113-9b3a83285efc/\"\n",
    "    }\n",
    "}"
   ]
  },
  {
   "cell_type": "code",
   "execution_count": null,
   "metadata": {},
   "outputs": [],
   "source": [
    "for file_path in FILES_TO_DOWNLOAD:\n",
    "    \n",
    "    for file_name, file_URL in FILES_TO_DOWNLOAD[file_path].items():\n",
    "        \n",
    "        download_path = os.path.join(database.DATA_PATH, file_path, file_name)\n",
    "        \n",
    "        fileio.download_remote_file(file_URL, download_path, skip_if_exists=True)\n",
    "        \n",
    "        if download_path.endswith(\".tar.gz\"):\n",
    "            tar = tarfile.open(download_path)\n",
    "            tar.extractall(download_path[0:-7])\n",
    "            tar.close()\n",
    "            os.remove(download_path)\n",
    "        elif download_path.endswith(\".gz\"):\n",
    "            with gzip.open(download_path, \"rb\") as compressed_file:\n",
    "                with open(download_path[0:-3], \"wb\") as uncompressed_file:\n",
    "                    shutil.copyfileobj(compressed_file, uncompressed_file)\n",
    "\n",
    "            os.remove(download_path)"
   ]
  },
  {
   "cell_type": "markdown",
   "metadata": {},
   "source": [
    "# Download raw data"
   ]
  },
  {
   "cell_type": "markdown",
   "metadata": {},
   "source": [
    "Raw FASTQ files can be downloaded from the SRA, here: https://www.ncbi.nlm.nih.gov/bioproject/758711\n",
    "\n",
    "Each transcriptome FASTQ file should be in a folder within the database.DATA_PATH directory with the following structure:\n",
    "```cell_sets\\{CELL_SET_NAME}\\transcriptome\\reads```, where {CELL_SET_NAME} corresponds to the full dated name of the cell set, as in database.CELL_SETS_DICT.\n",
    "\n",
    "Each amplifified FASTQ file should be in a folder within the database.DATA_PATH directory with the following structure:\n",
    "```cell_sets\\{CELL_SET_NAME}\\virus\\reads```, where {CELL_SET_NAME} corresponds to the full dated name of the cell set, as in database.CELL_SETS_DICT."
   ]
  }
 ],
 "metadata": {
  "kernelspec": {
   "display_name": "Python 3",
   "language": "python",
   "name": "python3"
  },
  "language_info": {
   "codemirror_mode": {
    "name": "ipython",
    "version": 3
   },
   "file_extension": ".py",
   "mimetype": "text/x-python",
   "name": "python",
   "nbconvert_exporter": "python",
   "pygments_lexer": "ipython3",
   "version": "3.7.8"
  }
 },
 "nbformat": 4,
 "nbformat_minor": 2
}
