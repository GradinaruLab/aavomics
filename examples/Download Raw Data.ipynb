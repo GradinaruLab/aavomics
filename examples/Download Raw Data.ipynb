{
 "cells": [
  {
   "cell_type": "code",
   "execution_count": null,
   "metadata": {},
   "outputs": [],
   "source": [
    "import os\n",
    "\n",
    "import aavomics\n",
    "\n",
    "from aavomics import database\n",
    "from pepars.fileio import fileio"
   ]
  },
  {
   "cell_type": "code",
   "execution_count": null,
   "metadata": {},
   "outputs": [],
   "source": [
    "CELLRANGER_REFERENCE = \"refdata-gex-mm10-2020-A\"\n",
    "CELLRANGER_REFERENCE_URL = \"https://cf.10xgenomics.com/supp/cell-exp/\" + CELLRANGER_REFERENCE + \".tar.gz\"\n",
    "CELLRANGER_DOWNLOAD_PATH = os.path.join(database.DATA_PATH, \"references\")"
   ]
  },
  {
   "cell_type": "code",
   "execution_count": null,
   "metadata": {},
   "outputs": [],
   "source": [
    "!wget -P {CELLRANGER_DOWNLOAD_PATH} {CELLRANGER_REFERENCE_URL}\n",
    "!tar -xzf {CELLRANGER_DOWNLOAD_PATH}/{CELLRANGER_REFERENCE}.tar.gz -C {CELLRANGER_DOWNLOAD_PATH}\n",
    "!rm {CELLRANGER_DOWNLOAD_PATH}/{CELLRANGER_REFERENCE}.tar.gz"
   ]
  },
  {
   "cell_type": "code",
   "execution_count": null,
   "metadata": {},
   "outputs": [],
   "source": [
    "# TODO: Add raw FASTQ files\n",
    "# TODO: Add Allen brain reference database\n",
    "# TODO: Convert away from using bash so it works on Windows too\n",
    "\n",
    "FILES_TO_DOWNLOAD = {\n",
    "#     \"references\": {\n",
    "#         \"refdata-gex-mm10-2020-A.tar.gz\": \"https://cf.10xgenomics.com/supp/cell-exp/refdata-gex-mm10-2020-A.tar.gz\"\n",
    "#     }\n",
    "    os.path.join(\"reference_databases\", \"20200331_Allen_Cortex_Hippocampus_10X_v3\"): {\n",
    "        \"metadata.csv\": \"https://idk-etl-prod-download-bucket.s3.amazonaws.com/aibs_mouse_ctx-hip_10x/metadata.csv\",\n",
    "        \"matrix.csv\": \"https://idk-etl-prod-download-bucket.s3.amazonaws.com/aibs_mouse_ctx-hip_10x/matrix.csv\"\n",
    "    },\n",
    "#     os.path.join(\"references\", \"mm10-allen-premRNA\", \"fasta\"): {\n",
    "#         \"genome.fa.gz\": \"ftp://ftp.ensembl.org/pub/release-84/fasta/mus_musculus/dna/Mus_musculus.GRCm38.dna.primary_assembly.fa.gz\"\n",
    "#     }\n",
    "}"
   ]
  },
  {
   "cell_type": "code",
   "execution_count": null,
   "metadata": {},
   "outputs": [],
   "source": [
    "for file_path in FILES_TO_DOWNLOAD:\n",
    "    \n",
    "    for file_name, file_URL in FILES_TO_DOWNLOAD[file_path].items():\n",
    "        \n",
    "        download_path = os.path.join(database.DATA_PATH, file_path, file_name)\n",
    "        \n",
    "        fileio.download_remote_file(file_URL, download_path, skip_if_exists=True)"
   ]
  },
  {
   "cell_type": "code",
   "execution_count": null,
   "metadata": {},
   "outputs": [],
   "source": []
  }
 ],
 "metadata": {
  "kernelspec": {
   "display_name": "Python 3",
   "language": "python",
   "name": "python3"
  },
  "language_info": {
   "codemirror_mode": {
    "name": "ipython",
    "version": 3
   },
   "file_extension": ".py",
   "mimetype": "text/x-python",
   "name": "python",
   "nbconvert_exporter": "python",
   "pygments_lexer": "ipython3",
   "version": "3.7.0"
  }
 },
 "nbformat": 4,
 "nbformat_minor": 2
}
