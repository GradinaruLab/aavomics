{
 "cells": [
  {
   "cell_type": "code",
   "execution_count": null,
   "metadata": {},
   "outputs": [],
   "source": [
    "import os\n",
    "import numpy \n",
    "\n",
    "from aavomics import database\n",
    "import scanpy\n",
    "import anndata\n",
    "import pandas\n",
    "\n",
    "from aavomics import aavomics\n",
    "\n",
    "from plotly import offline as plotly\n",
    "from plotly import graph_objects\n",
    "from plotly.subplots import make_subplots"
   ]
  },
  {
   "cell_type": "code",
   "execution_count": null,
   "metadata": {},
   "outputs": [],
   "source": [
    "ALIGNMENT_NAME = \"cellranger_5.0.1_gex_mm10_2020_A_AAVomics\"\n",
    "TAXONOMY_ALIGNMENT_NAME = \"cellranger_5.0.1_gex_mm10_2020_A\"\n",
    "\n",
    "TAXONOMY_NAME = \"CCN202105060\"\n",
    "\n",
    "ANNDATA_FILE_NAME = \"aavomics_mouse_cortex_2021.h5ad\""
   ]
  },
  {
   "cell_type": "code",
   "execution_count": null,
   "metadata": {},
   "outputs": [],
   "source": [
    "adatas = []\n",
    "cell_set_names = []\n",
    "\n",
    "for cell_set_index, cell_set in enumerate(database.CELL_SETS):\n",
    "    \n",
    "    print(\"Adding %s\" % cell_set.name)\n",
    "    \n",
    "    tissue_sample = cell_set.source_tissue\n",
    "    animal = tissue_sample.animal\n",
    "    \n",
    "    adata = anndata.read_h5ad(cell_set.get_anndata_file_path(alignment_name=ALIGNMENT_NAME))\n",
    "    \n",
    "    taxonomy_adata = anndata.read_h5ad(cell_set.get_anndata_file_path(alignment_name=TAXONOMY_ALIGNMENT_NAME))\n",
    "        \n",
    "    fresh_adata = taxonomy_adata[~taxonomy_adata.obs[TAXONOMY_NAME].isna()].copy()\n",
    "\n",
    "    for column in fresh_adata.obs.columns:\n",
    "        fresh_adata.obs.drop(column, axis=1, inplace=True)\n",
    "    \n",
    "    injections = animal.injections\n",
    "\n",
    "    read_sets = set()\n",
    "\n",
    "    for sequencing_library in cell_set.sequencing_libraries:\n",
    "        if sequencing_library.type == \"Virus Transcripts\":\n",
    "            read_sets.update(sequencing_library.read_sets)\n",
    "    \n",
    "    virus_and_vector_names = set()\n",
    "    \n",
    "    if len(read_sets) == 0:\n",
    "        print(\"No amplified reads to disambiguate. Only including overall transduction\")\n",
    "    else:\n",
    "        virus_vector_names = {}\n",
    "\n",
    "        for injection in injections:\n",
    "\n",
    "            for vector in injection.vector_pool.vectors:\n",
    "\n",
    "                virus = vector.delivery_vehicle\n",
    "\n",
    "                if virus.name not in virus_vector_names:\n",
    "                    virus_vector_names[virus.name] = set([vector.name])\n",
    "                else:\n",
    "                    virus_vector_names[virus.name].add(vector.name)\n",
    "\n",
    "        for virus_name, vector_names in virus_vector_names.items():\n",
    "\n",
    "            virus_and_vector_names.add(virus_name)\n",
    "\n",
    "            if len(vector_names) > 1:\n",
    "                virus_and_vector_names.update(vector_names)\n",
    "                \n",
    "    fresh_adata.obs[\"Cell Type\"] = taxonomy_adata.obs.loc[fresh_adata.obs.index.values][TAXONOMY_NAME]\n",
    "    fresh_adata.obs[\"AAV\"] = adata[fresh_adata.obs.index.values, \"AAV\"].X.todense()\n",
    "    cell_set_names.append(cell_set.name)\n",
    "                \n",
    "    for column_name in virus_and_vector_names:\n",
    "        fresh_adata.obs[column_name] = adata.obs.loc[fresh_adata.obs.index.values][column_name]\n",
    "    \n",
    "    fresh_adata.obs.index = [\"%s-%i\" % (x.split(\"-\")[0], cell_set_index + 1) for x in fresh_adata.obs.index.values]\n",
    "    \n",
    "    adatas.append(fresh_adata)\n",
    "    \n",
    "combined_adata = anndata.concat(adatas, label=\"Cell Set\", keys=cell_set_names, join=\"outer\")"
   ]
  },
  {
   "cell_type": "code",
   "execution_count": null,
   "metadata": {},
   "outputs": [],
   "source": [
    "combined_adata.write_h5ad(os.path.join(database.DATA_PATH, ANNDATA_FILE_NAME))"
   ]
  },
  {
   "cell_type": "code",
   "execution_count": null,
   "metadata": {},
   "outputs": [],
   "source": []
  }
 ],
 "metadata": {
  "kernelspec": {
   "display_name": "Python 3",
   "language": "python",
   "name": "python3"
  },
  "language_info": {
   "codemirror_mode": {
    "name": "ipython",
    "version": 3
   },
   "file_extension": ".py",
   "mimetype": "text/x-python",
   "name": "python",
   "nbconvert_exporter": "python",
   "pygments_lexer": "ipython3",
   "version": "3.7.0"
  }
 },
 "nbformat": 4,
 "nbformat_minor": 2
}
