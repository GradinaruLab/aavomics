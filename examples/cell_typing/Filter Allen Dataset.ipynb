{
 "cells": [
  {
   "cell_type": "code",
   "execution_count": null,
   "metadata": {},
   "outputs": [],
   "source": [
    "import os\n",
    "import anndata\n",
    "import scvi\n",
    "import numpy\n",
    "import pickle\n",
    "import pandas\n",
    "\n",
    "from aavomics import database"
   ]
  },
  {
   "cell_type": "code",
   "execution_count": null,
   "metadata": {},
   "outputs": [],
   "source": [
    "ALLEN_DATA_FILE_PATH = os.path.join(database.DATA_PATH, \"reference_databases\", \"20200331_Allen_Cortex_Hippocampus_10X_v3\", \"barcode_transcript_counts.h5ad\")\n",
    "ALLEN_FILTERED_DATA_FILE_PATH = os.path.join(database.DATA_PATH, \"reference_databases\", \"20200331_Allen_Cortex_Hippocampus_10X_v3\", \"barcode_transcript_counts_filtered.h5ad\")\n",
    "CELL_TYPE_MAP_FILE_PATH = os.path.join(database.DATA_PATH, \"reference_databases\", \"neuron_type_map_20210130.pkl\")\n",
    "\n",
    "REGIONS_TO_EXCLUDE = [\n",
    "    \"PL;ILA;ORB\",\n",
    "    \"AId;AIv\",\n",
    "    \"PAR;POST;PRE;SUB;ProS\",\n",
    "    \"HIP\"\n",
    "]\n",
    "\n",
    "GENDERS_TO_INCLUDE = [\"M\"]"
   ]
  },
  {
   "cell_type": "code",
   "execution_count": null,
   "metadata": {},
   "outputs": [],
   "source": [
    "adata = anndata.read(ALLEN_DATA_FILE_PATH)"
   ]
  },
  {
   "cell_type": "code",
   "execution_count": null,
   "metadata": {},
   "outputs": [],
   "source": [
    "cell_type_map = {}\n",
    "\n",
    "for cell_type_alias_label in adata.obs[\"cell_type_alias_label\"].unique():\n",
    "    \n",
    "    regions = adata.obs[adata.obs[\"cell_type_alias_label\"] == cell_type_alias_label][\"region_label\"].unique()\n",
    "    cell_type_designation_label = adata.obs[adata.obs[\"cell_type_alias_label\"] == cell_type_alias_label][\"cell_type_designation_label\"].iloc[0]\n",
    "    \n",
    "    if \"neuron\" not in cell_type_designation_label.lower():\n",
    "        print(\"Skipping %s, not a neuron type\" % (cell_type_alias_label))\n",
    "        continue\n",
    "    \n",
    "    all_excluded = True\n",
    "    \n",
    "    for region in regions:\n",
    "        if region not in REGIONS_TO_EXCLUDE:\n",
    "            all_excluded = False\n",
    "            \n",
    "    if all_excluded:\n",
    "        print(\"Skipping %s, in %s\" % (cell_type_alias_label, \",\".join(regions)))\n",
    "        continue\n",
    "    \n",
    "    if \"L2/3\" in cell_type_alias_label:\n",
    "        cell_type_map[cell_type_alias_label] = \"L2/3\"\n",
    "    elif \"L4/5\" in cell_type_alias_label:\n",
    "        cell_type_map[cell_type_alias_label] = \"L4/5\"\n",
    "    elif \"L5/6\" in cell_type_alias_label:\n",
    "        cell_type_map[cell_type_alias_label] = \"L5/6\"\n",
    "    elif \"L2\" in cell_type_alias_label:\n",
    "        cell_type_map[cell_type_alias_label] = \"L2\"\n",
    "    elif \"L3\" in cell_type_alias_label:\n",
    "        cell_type_map[cell_type_alias_label] = \"L3\"\n",
    "    elif \"L5\" in cell_type_alias_label:\n",
    "        cell_type_map[cell_type_alias_label] = \"L5\"\n",
    "    elif \"L6\" in cell_type_alias_label:\n",
    "        cell_type_map[cell_type_alias_label] = \"L6\"\n",
    "    elif \"Lamp5\" in cell_type_alias_label:\n",
    "        cell_type_map[cell_type_alias_label] = \"Lamp5\"\n",
    "    elif \"Pax6\" in cell_type_alias_label:\n",
    "        cell_type_map[cell_type_alias_label] = \"Pax6\"\n",
    "    elif \"Pvalb\" in cell_type_alias_label:\n",
    "        cell_type_map[cell_type_alias_label] = \"Pvalb\"\n",
    "    elif \"Sncg\" in cell_type_alias_label:\n",
    "        cell_type_map[cell_type_alias_label] = \"Sncg\"\n",
    "    elif \"Sst\" in cell_type_alias_label:\n",
    "        cell_type_map[cell_type_alias_label] = \"Sst\"\n",
    "    elif \"Vip\" in cell_type_alias_label:\n",
    "        cell_type_map[cell_type_alias_label] = \"Vip\""
   ]
  },
  {
   "cell_type": "code",
   "execution_count": null,
   "metadata": {},
   "outputs": [],
   "source": [
    "with open(CELL_TYPE_MAP_FILE_PATH, \"wb\") as cell_type_map_file:\n",
    "    pickle.dump(cell_type_map, cell_type_map_file)"
   ]
  },
  {
   "cell_type": "code",
   "execution_count": null,
   "metadata": {},
   "outputs": [],
   "source": [
    "region_mask = ~adata.obs[\"region_label\"].isin(REGIONS_TO_EXCLUDE)\n",
    "labeled_mask = adata.obs[\"class_label\"] != \"nan\"\n",
    "gender_mask = adata.obs[\"donor_sex_label\"].isin(GENDERS_TO_INCLUDE)\n",
    "cell_type_mask = adata.obs[\"cell_type_alias_label\"].isin(cell_type_map)\n",
    "\n",
    "all_mask = region_mask & labeled_mask & gender_mask & cell_type_mask"
   ]
  },
  {
   "cell_type": "code",
   "execution_count": null,
   "metadata": {},
   "outputs": [],
   "source": [
    "filtered_adata = adata[all_mask].copy()\n",
    "filtered_adata.X = filtered_adata.X.astype(numpy.uint16)\n",
    "filtered_adata.write(ALLEN_FILTERED_DATA_FILE_PATH)"
   ]
  },
  {
   "cell_type": "code",
   "execution_count": null,
   "metadata": {},
   "outputs": [],
   "source": []
  }
 ],
 "metadata": {
  "kernelspec": {
   "display_name": "Python 3",
   "language": "python",
   "name": "python3"
  },
  "language_info": {
   "codemirror_mode": {
    "name": "ipython",
    "version": 3
   },
   "file_extension": ".py",
   "mimetype": "text/x-python",
   "name": "python",
   "nbconvert_exporter": "python",
   "pygments_lexer": "ipython3",
   "version": "3.7.0"
  }
 },
 "nbformat": 4,
 "nbformat_minor": 2
}
