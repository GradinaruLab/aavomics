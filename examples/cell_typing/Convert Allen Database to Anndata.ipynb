{
 "cells": [
  {
   "cell_type": "code",
   "execution_count": null,
   "metadata": {},
   "outputs": [],
   "source": [
    "import os\n",
    "import pandas\n",
    "import numpy\n",
    "from scipy import sparse\n",
    "\n",
    "from aavomics import database\n",
    "\n",
    "import anndata"
   ]
  },
  {
   "cell_type": "code",
   "execution_count": null,
   "metadata": {},
   "outputs": [],
   "source": [
    "REFERENCE_NAME = \"20200331_Allen_Cortex_Hippocampus_10X_v3\"\n",
    "\n",
    "CHUNK_SIZE = 10000"
   ]
  },
  {
   "cell_type": "code",
   "execution_count": null,
   "metadata": {},
   "outputs": [],
   "source": [
    "reference_path = os.path.join(database.DATA_PATH, \"reference_databases\", REFERENCE_NAME)"
   ]
  },
  {
   "cell_type": "code",
   "execution_count": null,
   "metadata": {},
   "outputs": [],
   "source": [
    "metadata_df = pandas.read_csv(os.path.join(reference_path, \"metadata.csv\"), index_col=0, header=0)"
   ]
  },
  {
   "cell_type": "code",
   "execution_count": null,
   "metadata": {},
   "outputs": [],
   "source": [
    "cell_ids = []\n",
    "\n",
    "with open(os.path.join(reference_path, \"matrix.csv\")) as reference_csv_file:\n",
    "    \n",
    "    header_row = reference_csv_file.readline()\n",
    "    gene_list = header_row.strip().split(\",\")[1:]\n",
    "    num_genes = len(gene_list)\n",
    "    \n",
    "    sparse_matrix = sparse.csr_matrix((0, num_genes), dtype=numpy.uint16)\n",
    "\n",
    "    row = reference_csv_file.readline()\n",
    "\n",
    "    row_index = 0\n",
    "    temp_values = []\n",
    "    \n",
    "    while row:\n",
    "        \n",
    "        row_values = row.split(\",\")\n",
    "        cell_ids.append(row_values[0])\n",
    "        \n",
    "        row_values = [int(x) for x in row_values[1:]]\n",
    "        temp_values.append(row_values)\n",
    "\n",
    "        row_index += 1\n",
    "        \n",
    "        if row_index % CHUNK_SIZE == 0:\n",
    "            row_batch = sparse.csr_matrix(temp_values,dtype=numpy.uint16)\n",
    "            sparse_matrix = sparse.vstack([sparse_matrix, row_batch])\n",
    "            temp_values = []\n",
    "            print(row_index)\n",
    "\n",
    "        row = reference_csv_file.readline()\n",
    "\n",
    "    row_batch = sparse.csr_matrix(temp_values,dtype=numpy.uint16)\n",
    "    sparse_matrix = sparse.vstack([sparse_matrix, row_batch])"
   ]
  },
  {
   "cell_type": "code",
   "execution_count": null,
   "metadata": {},
   "outputs": [],
   "source": [
    "genes_df = pandas.DataFrame(index=gene_list, dtype=numpy.object)\n",
    "metadata_df = metadata_df.loc[cell_ids]\n",
    "\n",
    "adata = anndata.AnnData(X=sparse_matrix, var=genes_df, obs=metadata_df)\n",
    "adata.write(os.path.join(reference_path, \"barcode_transcript_counts.h5ad\"))"
   ]
  }
 ],
 "metadata": {
  "kernelspec": {
   "display_name": "Python 3",
   "language": "python",
   "name": "python3"
  },
  "language_info": {
   "codemirror_mode": {
    "name": "ipython",
    "version": 3
   },
   "file_extension": ".py",
   "mimetype": "text/x-python",
   "name": "python",
   "nbconvert_exporter": "python",
   "pygments_lexer": "ipython3",
   "version": "3.7.0"
  }
 },
 "nbformat": 4,
 "nbformat_minor": 2
}
