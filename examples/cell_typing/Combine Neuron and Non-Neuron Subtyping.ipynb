{
 "cells": [
  {
   "cell_type": "code",
   "execution_count": null,
   "metadata": {},
   "outputs": [],
   "source": [
    "import os\n",
    "import pandas\n",
    "import anndata\n",
    "import numpy\n",
    "\n",
    "from aavomics import database"
   ]
  },
  {
   "cell_type": "code",
   "execution_count": null,
   "metadata": {},
   "outputs": [],
   "source": [
    "\n",
    "ALIGNMENT_NAME = \"cellranger_5.0.1_gex_mm10_2020_A\"\n",
    "NEW_TAXONOMY_NAME = \"CCN202105060\"\n",
    "TAXONOMIES_TO_MERGE = [\"CCN202105050\", \"CCN202105051\"]"
   ]
  },
  {
   "cell_type": "code",
   "execution_count": null,
   "metadata": {},
   "outputs": [],
   "source": [
    "for cell_set in database.CELL_SETS:\n",
    "    \n",
    "    anndata_file_path = cell_set.get_anndata_file_path(alignment_name=ALIGNMENT_NAME)\n",
    "    \n",
    "    if not os.path.exists(anndata_file_path):\n",
    "        print(\"Skipping %s, anndata doesn't exist\" % cell_set.name)\n",
    "        continue\n",
    "    \n",
    "    adata = anndata.read(anndata_file_path)\n",
    "    \n",
    "    if TAXONOMIES_TO_MERGE[0] not in adata.obs.columns:\n",
    "        print(\"Skipping %s, anndata doesn't contain taxonomy %s\" % (cell_set.name, TAXONOMIES_TO_MERGE[0]))\n",
    "        continue\n",
    "        \n",
    "    cell_types = set()\n",
    "    \n",
    "    for taxonomy in TAXONOMIES_TO_MERGE:\n",
    "        \n",
    "        for cell_type in adata.obs[taxonomy].unique():\n",
    "            if cell_type in [\"nan\", \"Multiplets\", \"Debris\", \"Unknown\"]:\n",
    "                continue\n",
    "            try:\n",
    "                if pandas.isna(cell_type):\n",
    "                    continue\n",
    "            except:\n",
    "                pass\n",
    "            try:\n",
    "                 if numpy.isnan(cell_type):\n",
    "                    continue\n",
    "            except:\n",
    "                pass\n",
    "            \n",
    "            cell_types.add(cell_type)\n",
    "    \n",
    "    cell_type_categorical_type = pandas.CategoricalDtype(categories=list(cell_types))\n",
    "    adata.obs[NEW_TAXONOMY_NAME] = pandas.Series(dtype=cell_type_categorical_type)\n",
    "    \n",
    "    for taxonomy in TAXONOMIES_TO_MERGE:\n",
    "        for cell_type in cell_types:\n",
    "            adata.obs[NEW_TAXONOMY_NAME].loc[(adata.obs[taxonomy] == cell_type) & (adata.obs[\"Cell Called\"] == \"True\")] = cell_type\n",
    "        \n",
    "    adata.write_h5ad(anndata_file_path)"
   ]
  },
  {
   "cell_type": "code",
   "execution_count": null,
   "metadata": {},
   "outputs": [],
   "source": []
  }
 ],
 "metadata": {
  "kernelspec": {
   "display_name": "Python 3",
   "language": "python",
   "name": "python3"
  },
  "language_info": {
   "codemirror_mode": {
    "name": "ipython",
    "version": 3
   },
   "file_extension": ".py",
   "mimetype": "text/x-python",
   "name": "python",
   "nbconvert_exporter": "python",
   "pygments_lexer": "ipython3",
   "version": "3.7.0"
  }
 },
 "nbformat": 4,
 "nbformat_minor": 2
}
